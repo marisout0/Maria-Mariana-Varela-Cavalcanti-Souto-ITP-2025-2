{
  "cells": [
    {
      "cell_type": "markdown",
      "metadata": {
        "id": "view-in-github",
        "colab_type": "text"
      },
      "source": [
        "<a href=\"https://colab.research.google.com/github/marisout0/Maria-Mariana-Varela-Cavalcanti-Souto-ITP-2025-2/blob/main/Lista_ITP_semana_3_C.ipynb\" target=\"_parent\"><img src=\"https://colab.research.google.com/assets/colab-badge.svg\" alt=\"Open In Colab\"/></a>"
      ]
    },
    {
      "cell_type": "markdown",
      "metadata": {
        "id": "mhgWMZizpDql"
      },
      "source": [
        "Baixando Compilador em C"
      ]
    },
    {
      "cell_type": "code",
      "execution_count": 1,
      "metadata": {
        "id": "8a3fdf88",
        "colab": {
          "base_uri": "https://localhost:8080/"
        },
        "outputId": "ff5b1b96-0a61-4e20-9641-420779a0ddbf"
      },
      "outputs": [
        {
          "output_type": "stream",
          "name": "stdout",
          "text": [
            "\u001b[33m\r0% [Working]\u001b[0m\r            \rHit:1 https://cli.github.com/packages stable InRelease\n",
            "Get:2 https://cloud.r-project.org/bin/linux/ubuntu jammy-cran40/ InRelease [3,632 B]\n",
            "Hit:3 http://archive.ubuntu.com/ubuntu jammy InRelease\n",
            "Get:4 http://security.ubuntu.com/ubuntu jammy-security InRelease [129 kB]\n",
            "Get:5 https://r2u.stat.illinois.edu/ubuntu jammy InRelease [6,555 B]\n",
            "Get:6 https://developer.download.nvidia.com/compute/cuda/repos/ubuntu2204/x86_64  InRelease [1,581 B]\n",
            "Get:7 http://archive.ubuntu.com/ubuntu jammy-updates InRelease [128 kB]\n",
            "Hit:8 https://ppa.launchpadcontent.net/deadsnakes/ppa/ubuntu jammy InRelease\n",
            "Hit:9 https://ppa.launchpadcontent.net/graphics-drivers/ppa/ubuntu jammy InRelease\n",
            "Hit:10 https://ppa.launchpadcontent.net/ubuntugis/ppa/ubuntu jammy InRelease\n",
            "Get:11 http://archive.ubuntu.com/ubuntu jammy-backports InRelease [127 kB]\n",
            "Get:12 https://r2u.stat.illinois.edu/ubuntu jammy/main amd64 Packages [2,809 kB]\n",
            "Get:13 https://developer.download.nvidia.com/compute/cuda/repos/ubuntu2204/x86_64  Packages [2,065 kB]\n",
            "Get:14 https://r2u.stat.illinois.edu/ubuntu jammy/main all Packages [9,323 kB]\n",
            "Get:15 http://security.ubuntu.com/ubuntu jammy-security/main amd64 Packages [3,415 kB]\n",
            "Get:16 http://archive.ubuntu.com/ubuntu jammy-updates/restricted amd64 Packages [5,922 kB]\n",
            "Get:17 http://security.ubuntu.com/ubuntu jammy-security/universe amd64 Packages [1,275 kB]\n",
            "Get:18 http://archive.ubuntu.com/ubuntu jammy-updates/main amd64 Packages [3,744 kB]\n",
            "Get:19 http://archive.ubuntu.com/ubuntu jammy-updates/universe amd64 Packages [1,580 kB]\n",
            "Fetched 30.5 MB in 5s (6,614 kB/s)\n",
            "Reading package lists... Done\n",
            "Building dependency tree... Done\n",
            "Reading state information... Done\n",
            "42 packages can be upgraded. Run 'apt list --upgradable' to see them.\n",
            "\u001b[1;33mW: \u001b[0mSkipping acquire of configured file 'main/source/Sources' as repository 'https://r2u.stat.illinois.edu/ubuntu jammy InRelease' does not seem to provide it (sources.list entry misspelt?)\u001b[0m\n",
            "Reading package lists... Done\n",
            "Building dependency tree... Done\n",
            "Reading state information... Done\n",
            "build-essential is already the newest version (12.9ubuntu3).\n",
            "0 upgraded, 0 newly installed, 0 to remove and 42 not upgraded.\n"
          ]
        }
      ],
      "source": [
        "!apt update\n",
        "!apt install build-essential"
      ]
    },
    {
      "cell_type": "markdown",
      "metadata": {
        "id": "KZNCMwnF6KgF"
      },
      "source": [
        "Exercício 1 -  Classificação de IMC"
      ]
    },
    {
      "cell_type": "code",
      "execution_count": 2,
      "metadata": {
        "colab": {
          "base_uri": "https://localhost:8080/"
        },
        "id": "96e17d7e",
        "outputId": "eb2c3f70-dd03-4243-c6c6-631fa8f053a8"
      },
      "outputs": [
        {
          "output_type": "stream",
          "name": "stdout",
          "text": [
            "Writing imc.c\n"
          ]
        }
      ],
      "source": [
        "%%writefile imc.c\n",
        "#include <stdio.h>\n",
        "#include <math.h>\n",
        "\n",
        "int main() {\n",
        "    float peso, altura, imc;\n",
        "\n",
        "    printf(\"Digite o peso em kg: \");\n",
        "    scanf(\"%f\", &peso);\n",
        "\n",
        "    printf(\"Digite a altura em metros: \");\n",
        "    scanf(\"%f\", &altura);\n",
        "\n",
        "    imc = peso / (altura*altura);\n",
        "\n",
        "    // Usa estruturas if/else if para classificar o IMC.\n",
        "    printf(\"O seu IMC e: %.2f\\n\", imc);\n",
        "\n",
        "    if (imc < 18.5) {\n",
        "        printf(\"Classificacao: Abaixo do peso\\n\"); // Abaixo de 18.5\n",
        "    } else if (imc >= 18.5 && imc <= 24.9) {\n",
        "        printf(\"Classificacao: Peso normal\\n\"); // Entre 18.5 e 24.9\n",
        "    } else if (imc >= 25.0 && imc <= 29.9) {\n",
        "        printf(\"Classificacao: Sobrepeso\\n\"); // Entre 25.0 e 29.9\n",
        "    } else { // O problema define essa categoria como \"30.0 ou mais\"\n",
        "        printf(\"Classificacao: Obesidade\\n\");\n",
        "    }\n",
        "\n",
        "    return 0;\n",
        "}"
      ]
    },
    {
      "cell_type": "code",
      "execution_count": 3,
      "metadata": {
        "colab": {
          "base_uri": "https://localhost:8080/"
        },
        "id": "c988c344",
        "outputId": "da00e262-69cc-4655-cce5-b6dd34118258"
      },
      "outputs": [
        {
          "output_type": "stream",
          "name": "stdout",
          "text": [
            "Digite o peso em kg: 67\n",
            "Digite a altura em metros: 1.65\n",
            "O seu IMC e: 24.61\n",
            "Classificacao: Peso normal\n"
          ]
        }
      ],
      "source": [
        "!gcc imc.c -o imc -lm\n",
        "!./imc"
      ]
    },
    {
      "cell_type": "markdown",
      "metadata": {
        "id": "ChI-fohz7uXw"
      },
      "source": [
        "Exercício 2 - Calculadora de energia elétrica"
      ]
    },
    {
      "cell_type": "code",
      "execution_count": 4,
      "metadata": {
        "colab": {
          "base_uri": "https://localhost:8080/"
        },
        "id": "wYZICkh076C1",
        "outputId": "ce119d09-005a-4935-ee59-e6aff50077fd"
      },
      "outputs": [
        {
          "output_type": "stream",
          "name": "stdout",
          "text": [
            "Writing energia.c\n"
          ]
        }
      ],
      "source": [
        "%%writefile energia.c\n",
        "#include <stdio.h>\n",
        "\n",
        "int main() {\n",
        "    float consumo_kwh, valor_total;\n",
        "    char tipo_consumidor;\n",
        "    const float taxa_fixa = 15.00; // Define uma constante para a taxa fixa\n",
        "\n",
        "    printf(\"Digite o consumo em kWh: \");\n",
        "    scanf(\"%f\", &consumo_kwh);\n",
        "\n",
        "    // A leitura de um caractere precisa de um espaço antes do %c\n",
        "    // para limpar o buffer de entrada.\n",
        "    printf(\"Digite o tipo de consumidor (R/C/I): \");\n",
        "    scanf(\" %c\", &tipo_consumidor);\n",
        "\n",
        "    // Usa um switch para selecionar o cálculo com base no tipo de consumidor.\n",
        "    switch (tipo_consumidor) {\n",
        "        case 'R':\n",
        "        case 'r':\n",
        "            valor_total = (consumo_kwh * 0.60) + taxa_fixa; // Residencial\n",
        "            break;\n",
        "        case 'C':\n",
        "        case 'c':\n",
        "            valor_total = (consumo_kwh * 0.48) + taxa_fixa; // Comercial\n",
        "            break;\n",
        "        case 'I':\n",
        "        case 'i':\n",
        "            valor_total = (consumo_kwh * 1.29) + taxa_fixa; // Industrial\n",
        "            break;\n",
        "        default:\n",
        "            printf(\"Tipo de consumidor invalido.\\n\");\n",
        "            return 1; // Retorna um código de erro.\n",
        "    }\n",
        "\n",
        "    printf(\"Valor total da conta: R$ %.2f\\n\", valor_total);\n",
        "\n",
        "    return 0;\n",
        "}"
      ]
    },
    {
      "cell_type": "code",
      "execution_count": 5,
      "metadata": {
        "colab": {
          "base_uri": "https://localhost:8080/"
        },
        "id": "76bdea0c",
        "outputId": "6735f72a-91c0-4d5f-99bd-89f2396895fc"
      },
      "outputs": [
        {
          "output_type": "stream",
          "name": "stdout",
          "text": [
            "Digite o consumo em kWh: 500\n",
            "Digite o tipo de consumidor (R/C/I): R\n",
            "Valor total da conta: R$ 315.00\n"
          ]
        }
      ],
      "source": [
        "!gcc energia.c -o energia\n",
        "!./energia"
      ]
    },
    {
      "cell_type": "markdown",
      "metadata": {
        "id": "qO8MTbfN8Zsi"
      },
      "source": [
        "Exercício 3 - Sistema de notas"
      ]
    },
    {
      "cell_type": "code",
      "execution_count": 6,
      "metadata": {
        "colab": {
          "base_uri": "https://localhost:8080/"
        },
        "id": "aZryPmjn8aCY",
        "outputId": "d487cf94-1a49-4364-9d06-1c57dd89f4c3"
      },
      "outputs": [
        {
          "output_type": "stream",
          "name": "stdout",
          "text": [
            "Writing notas.c\n"
          ]
        }
      ],
      "source": [
        "%%writefile notas.c\n",
        "#include <stdio.h>\n",
        "\n",
        "int main() {\n",
        "    float nota1, nota2, nota3, media, nota_final_necessaria;\n",
        "\n",
        "    printf(\"Digite a primeira nota: \");\n",
        "    scanf(\"%f\", &nota1);\n",
        "\n",
        "    printf(\"Digite a segunda nota: \");\n",
        "    scanf(\"%f\", &nota2);\n",
        "\n",
        "    printf(\"Digite a terceira nota: \");\n",
        "    scanf(\"%f\", &nota3);\n",
        "\n",
        "    // Calcula a média aritmética das notas.\n",
        "    media = (nota1 + nota2 + nota3) / 3.0;\n",
        "\n",
        "    printf(\"Media: %.2f\\n\", media);\n",
        "\n",
        "    // Usa if/else if para determinar a situação do aluno.\n",
        "    if (media >= 7.0) {\n",
        "        printf(\"Situacao: Aprovado\\n\"); // Média >= 7.0\n",
        "    } else if (media < 4.0) {\n",
        "        printf(\"Situacao: Reprovado\\n\"); // Média < 4.0\n",
        "    } else { // Se a média estiver entre 4.0 e 7.0\n",
        "        printf(\"Situacao: Em recuperacao\\n\"); // 4.0 <= media < 7.0\n",
        "\n",
        "        // Calcula a nota necessária para a prova final.\n",
        "        // A fórmula é (media + nota_final_necessaria) / 2 = 5.0\n",
        "        // Isolando nota_final_necessaria: nota_final_necessaria = (5.0 * 2) - media\n",
        "        nota_final_necessaria = 10.0 - media;\n",
        "\n",
        "        printf(\"Para ser aprovado na recuperacao, voce precisa de %.2f na prova final.\\n\", nota_final_necessaria);\n",
        "    }\n",
        "\n",
        "    return 0;\n",
        "}"
      ]
    },
    {
      "cell_type": "code",
      "execution_count": 7,
      "metadata": {
        "colab": {
          "base_uri": "https://localhost:8080/"
        },
        "id": "21306d92",
        "outputId": "1a6a3bdb-1d23-4676-fbfa-5237613306c6"
      },
      "outputs": [
        {
          "output_type": "stream",
          "name": "stdout",
          "text": [
            "Digite a primeira nota: 7\n",
            "Digite a segunda nota: 4\n",
            "Digite a terceira nota: 3\n",
            "Media: 4.67\n",
            "Situacao: Em recuperacao\n",
            "Para ser aprovado na recuperacao, voce precisa de 5.33 na prova final.\n"
          ]
        }
      ],
      "source": [
        "!gcc notas.c -o notas\n",
        "!./notas"
      ]
    },
    {
      "cell_type": "markdown",
      "metadata": {
        "id": "DwE2rNzO812y"
      },
      "source": [
        "Exercício 4 - Jogo pedra, papel ou tesoura"
      ]
    },
    {
      "cell_type": "code",
      "execution_count": 8,
      "metadata": {
        "id": "l5S2nOAy87IR",
        "colab": {
          "base_uri": "https://localhost:8080/"
        },
        "outputId": "7ed7e2b6-d033-4bb4-d128-38c1033e8c14"
      },
      "outputs": [
        {
          "output_type": "stream",
          "name": "stdout",
          "text": [
            "Writing jogo.c\n"
          ]
        }
      ],
      "source": [
        "%%writefile jogo.c\n",
        "#include <stdio.h>\n",
        "\n",
        "int main() {\n",
        "    char jogada1, jogada2;\n",
        "\n",
        "    printf(\"Jogador 1, digite sua jogada (P-pedra, A-papel, T-tesoura): \");\n",
        "    scanf(\" %c\", &jogada1);\n",
        "\n",
        "    printf(\"Jogador 2, digite sua jogada (P-pedra, A-papel, T-tesoura): \");\n",
        "    scanf(\" %c\", &jogada2);\n",
        "\n",
        "    // Usa uma série de if/else if para verificar todas as combinações.\n",
        "    // O operador lógico '&&' (e) combina duas condições.\n",
        "    if (jogada1 == jogada2) {\n",
        "        printf(\"Empate!\\n\"); // Jogadas iguais resultam em empate\n",
        "    } else if ((jogada1 == 'P' && jogada2 == 'T') || (jogada1 == 'p' && jogada2 == 't')) {\n",
        "        printf(\"Jogador 1 vence!\\n\"); // Pedra vence Tesoura\n",
        "    } else if ((jogada1 == 'A' && jogada2 == 'P') || (jogada1 == 'a' && jogada2 == 'p')) {\n",
        "        printf(\"Jogador 1 vence!\\n\"); // Papel vence Pedra\n",
        "    } else if ((jogada1 == 'T' && jogada2 == 'A') || (jogada1 == 't' && jogada1 == 'a')) {\n",
        "        printf(\"Jogador 1 vence!\\n\"); // Tesoura vence Papel\n",
        "    } else {\n",
        "        printf(\"Jogador 2 vence!\\n\"); // Se não foi empate e o jogador 1 não venceu, o jogador 2 vence.\n",
        "    }\n",
        "\n",
        "    return 0;\n",
        "}"
      ]
    },
    {
      "cell_type": "code",
      "execution_count": 9,
      "metadata": {
        "id": "be9c15b1",
        "colab": {
          "base_uri": "https://localhost:8080/"
        },
        "outputId": "1e909689-85be-4292-8a31-dff2e0331f67"
      },
      "outputs": [
        {
          "output_type": "stream",
          "name": "stdout",
          "text": [
            "Jogador 1, digite sua jogada (P-pedra, A-papel, T-tesoura): P\n",
            "Jogador 2, digite sua jogada (P-pedra, A-papel, T-tesoura): T\n",
            "Jogador 1 vence!\n"
          ]
        }
      ],
      "source": [
        "!gcc jogo.c -o jogo\n",
        "!./jogo"
      ]
    },
    {
      "cell_type": "markdown",
      "metadata": {
        "id": "rEvLL-BwrjKl"
      },
      "source": [
        "Exercício 5 - Calculadora de desconto progressivo"
      ]
    },
    {
      "cell_type": "code",
      "execution_count": 10,
      "metadata": {
        "id": "a15D9c2wrpIi",
        "colab": {
          "base_uri": "https://localhost:8080/"
        },
        "outputId": "160af58f-7af1-4d79-82eb-cb2c5f77f8f6"
      },
      "outputs": [
        {
          "output_type": "stream",
          "name": "stdout",
          "text": [
            "Writing desconto.c\n"
          ]
        }
      ],
      "source": [
        "%%writefile desconto.c\n",
        "#include <stdio.h>\n",
        "#include <locale.h>\n",
        "\n",
        "int main() {\n",
        "    setlocale(LC_ALL, \"Portuguese\");\n",
        "\n",
        "    float valorCompra, valorDesconto, valorFinal;\n",
        "    int porcentagemDesconto;\n",
        "\n",
        "    printf(\"Digite o valor da compra: R$ \");\n",
        "    scanf(\"%f\", &valorCompra);\n",
        "\n",
        "    if (valorCompra <= 100.00) {\n",
        "        porcentagemDesconto = 0;\n",
        "    } else if (valorCompra <= 500.00) {\n",
        "        porcentagemDesconto = 10;\n",
        "    } else if (valorCompra <= 1000.00) {\n",
        "        porcentagemDesconto = 15;\n",
        "    } else {\n",
        "        porcentagemDesconto = 20;\n",
        "    }\n",
        "\n",
        "    valorDesconto = valorCompra * porcentagemDesconto / 100.0;\n",
        "    valorFinal = valorCompra - valorDesconto;\n",
        "\n",
        "    printf(\"\\n--- Resumo da Compra ---\\n\");\n",
        "    printf(\"Valor da compra: R$ %.2f\\n\", valorCompra);\n",
        "    printf(\"Porcentagem de desconto aplicada: %d%%\\n\", porcentagemDesconto);\n",
        "    printf(\"Valor do desconto: R$ %.2f\\n\", valorDesconto);\n",
        "    printf(\"Valor final a ser pago: R$ %.2f\\n\", valorFinal);\n",
        "\n",
        "    return 0;\n",
        "}"
      ]
    },
    {
      "cell_type": "code",
      "execution_count": 11,
      "metadata": {
        "id": "be87e11f",
        "colab": {
          "base_uri": "https://localhost:8080/"
        },
        "outputId": "02251924-8c5a-4754-ac1f-151e58b9df5d"
      },
      "outputs": [
        {
          "output_type": "stream",
          "name": "stdout",
          "text": [
            "Digite o valor da compra: R$ 500\n",
            "\n",
            "--- Resumo da Compra ---\n",
            "Valor da compra: R$ 500.00\n",
            "Porcentagem de desconto aplicada: 10%\n",
            "Valor do desconto: R$ 50.00\n",
            "Valor final a ser pago: R$ 450.00\n"
          ]
        }
      ],
      "source": [
        "!gcc desconto.c -o desconto\n",
        "!./desconto"
      ]
    },
    {
      "cell_type": "markdown",
      "metadata": {
        "id": "_IRqGuq0sWt2"
      },
      "source": [
        "Exercício 6 - Diagnóstico simples"
      ]
    },
    {
      "cell_type": "code",
      "execution_count": 12,
      "metadata": {
        "id": "YSVz9JIzstGh",
        "colab": {
          "base_uri": "https://localhost:8080/"
        },
        "outputId": "e3873355-9dd6-4fa8-eeaa-3064cfbfa05b"
      },
      "outputs": [
        {
          "output_type": "stream",
          "name": "stdout",
          "text": [
            "Writing diagnostico.c\n"
          ]
        }
      ],
      "source": [
        "%%writefile diagnostico.c\n",
        "#include <stdio.h>\n",
        "#include <ctype.h> // Para a função toupper, que converte o caractere para maiúsculo\n",
        "#include <locale.h>\n",
        "\n",
        "int main() {\n",
        "    // Configura o programa para aceitar acentuação do português\n",
        "    setlocale(LC_ALL, \"Portuguese\");\n",
        "\n",
        "    char temFebre, temDorCabeca, temDorCorpo, temTosse;\n",
        "\n",
        "    printf(\"--- Assistente de Diagnóstico Médico ---\\n\");\n",
        "    printf(\"Por favor, responda às seguintes perguntas com S (para Sim) ou N (para Não).\\n\\n\");\n",
        "\n",
        "    // Coleta dos sintomas do usuário\n",
        "    printf(\"Você tem febre? (S/N): \");\n",
        "    scanf(\" %c\", &temFebre);\n",
        "    // Converte a resposta para maiúscula para facilitar a comparação\n",
        "    temFebre = toupper(temFebre);\n",
        "\n",
        "    printf(\"Você tem dor de cabeça? (S/N): \");\n",
        "    scanf(\" %c\", &temDorCabeca);\n",
        "    temDorCabeca = toupper(temDorCabeca);\n",
        "\n",
        "    printf(\"Você tem dor no corpo? (S/N): \");\n",
        "    scanf(\" %c\", &temDorCorpo);\n",
        "    temDorCorpo = toupper(temDorCorpo);\n",
        "\n",
        "    printf(\"Você tem tosse? (S/N): \");\n",
        "    scanf(\" %c\", &temTosse);\n",
        "    temTosse = toupper(temTosse);\n",
        "\n",
        "    printf(\"\\n--- Diagnóstico Sugerido ---\\n\");\n",
        "\n",
        "    // Estrutura condicional para determinar o diagnóstico\n",
        "    if (temFebre == 'S' && temDorCabeca == 'S' && temDorCorpo == 'S') {\n",
        "        printf(\"Resultado: Possível gripe.\\n\");\n",
        "    } else if (temTosse == 'S' && temFebre == 'S') {\n",
        "        printf(\"Resultado: Possível resfriado.\\n\");\n",
        "    } else if (temDorCabeca == 'S' && temFebre == 'N' && temDorCorpo == 'N' && temTosse == 'N') {\n",
        "        printf(\"Resultado: Possível enxaqueca.\\n\");\n",
        "    } else if (temFebre == 'S' && temDorCabeca == 'N' && temDorCorpo == 'N' && temTosse == 'N') {\n",
        "        printf(\"Resultado: Apenas febre. Consulte um médico.\\n\");\n",
        "    } else if (temFebre == 'N' && temDorCabeca == 'N' && temDorCorpo == 'N' && temTosse == 'N') {\n",
        "        printf(\"Resultado: Nenhum sintoma. Você parece estar bem.\\n\");\n",
        "    } else {\n",
        "        printf(\"Resultado: Combinação de sintomas não específica. Consulte um médico para avaliação.\\n\");\n",
        "    }\n",
        "\n",
        "    printf(\"\\nAtenção: Este é um programa de auxílio e não substitui uma consulta médica profissional.\\n\");\n",
        "\n",
        "    return 0;\n",
        "}"
      ]
    },
    {
      "cell_type": "code",
      "execution_count": 18,
      "metadata": {
        "id": "72266b59",
        "colab": {
          "base_uri": "https://localhost:8080/"
        },
        "outputId": "658c0ec2-72ac-4b6f-88ff-b7e92cc3e488"
      },
      "outputs": [
        {
          "output_type": "stream",
          "name": "stdout",
          "text": [
            "--- Assistente de Diagnóstico Médico ---\n",
            "Por favor, responda às seguintes perguntas com S (para Sim) ou N (para Não).\n",
            "\n",
            "Você tem febre? (S/N): s\n",
            "Você tem dor de cabeça? (S/N): s\n",
            "Você tem dor no corpo? (S/N): s\n",
            "Você tem tosse? (S/N): s\n",
            "\n",
            "--- Diagnóstico Sugerido ---\n",
            "Resultado: Possível gripe.\n",
            "\n",
            "Atenção: Este é um programa de auxílio e não substitui uma consulta médica profissional.\n"
          ]
        }
      ],
      "source": [
        "!gcc diagnostico.c -o diagnostico\n",
        "!./diagnostico"
      ]
    },
    {
      "cell_type": "markdown",
      "metadata": {
        "id": "cfzA0QmRt1Ss"
      },
      "source": [
        "Exercício 7 - Equação do segundo grau"
      ]
    },
    {
      "cell_type": "code",
      "execution_count": 14,
      "metadata": {
        "id": "qzW2OsiYt69-",
        "colab": {
          "base_uri": "https://localhost:8080/"
        },
        "outputId": "44e40787-53fc-47a7-e1ba-dce302ea0bb2"
      },
      "outputs": [
        {
          "output_type": "stream",
          "name": "stdout",
          "text": [
            "Writing equacao.c\n"
          ]
        }
      ],
      "source": [
        "%%writefile equacao.c\n",
        "#include <stdio.h>\n",
        "#include <math.h> // Necessária para as funções pow() e sqrt()\n",
        "#include <locale.h>\n",
        "\n",
        "int main() {\n",
        "    // Configura o programa para usar a acentuação do português\n",
        "    setlocale(LC_ALL, \"Portuguese\");\n",
        "\n",
        "    double a, b, c, delta, x1, x2;\n",
        "\n",
        "    printf(\"--- Solucionador de Equação do 2º Grau (ax² + bx + c = 0) ---\\n\");\n",
        "\n",
        "    // Leitura dos coeficientes\n",
        "    printf(\"Digite o coeficiente 'a': \");\n",
        "    scanf(\"%lf\", &a);\n",
        "\n",
        "    printf(\"Digite o coeficiente 'b': \");\n",
        "    scanf(\"%lf\", &b);\n",
        "\n",
        "    printf(\"Digite o coeficiente 'c': \");\n",
        "    scanf(\"%lf\", &c);\n",
        "\n",
        "    // 1. Verificação se é uma equação do segundo grau\n",
        "    if (a == 0) {\n",
        "        printf(\"\\nO coeficiente 'a' não pode ser zero. Isso não é uma equação do segundo grau.\\n\");\n",
        "    } else {\n",
        "        // 2. Cálculo do discriminante (Delta)\n",
        "        // delta = (b * b) - (4 * a * c); // Alternativa ao uso da função pow()\n",
        "        delta = pow(b, 2) - (4 * a * c);\n",
        "\n",
        "        printf(\"\\n----------------------------------------\\n\");\n",
        "        printf(\"Equação: %.2lfx² + %.2lfx + %.2lf = 0\\n\", a, b, c);\n",
        "        printf(\"Valor de Delta (Δ): %.2lf\\n\", delta);\n",
        "        printf(\"----------------------------------------\\n\");\n",
        "\n",
        "\n",
        "        // 3. Análise de Delta para encontrar as raízes\n",
        "        if (delta > 0) {\n",
        "            // Se Δ > 0, existem duas raízes reais e distintas\n",
        "            x1 = (-b + sqrt(delta)) / (2 * a);\n",
        "            x2 = (-b - sqrt(delta)) / (2 * a);\n",
        "            printf(\"Resultado: A equação possui duas raízes reais e distintas.\\n\");\n",
        "            printf(\"Raiz x1 = %.2lf\\n\", x1);\n",
        "            printf(\"Raiz x2 = %.2lf\\n\", x2);\n",
        "        } else if (delta == 0) {\n",
        "            // Se Δ = 0, existe uma única raiz real\n",
        "            x1 = -b / (2 * a);\n",
        "            printf(\"Resultado: A equação possui uma raiz real (ou duas raízes iguais).\\n\");\n",
        "            printf(\"Raiz x = %.2lf\\n\", x1);\n",
        "        } else { // delta < 0\n",
        "            // Se Δ < 0, não existem raízes no conjunto dos números reais\n",
        "            printf(\"Resultado: A equação não possui raízes reais.\\n\");\n",
        "        }\n",
        "    }\n",
        "\n",
        "    return 0;\n",
        "}"
      ]
    },
    {
      "cell_type": "code",
      "execution_count": 15,
      "metadata": {
        "id": "5f3b373e",
        "colab": {
          "base_uri": "https://localhost:8080/"
        },
        "outputId": "23d17b85-021b-4ef4-93e7-d747c67d1ee1"
      },
      "outputs": [
        {
          "output_type": "stream",
          "name": "stdout",
          "text": [
            "--- Solucionador de Equação do 2º Grau (ax² + bx + c = 0) ---\n",
            "Digite o coeficiente 'a': 2\n",
            "Digite o coeficiente 'b': 3\n",
            "Digite o coeficiente 'c': 29\n",
            "\n",
            "----------------------------------------\n",
            "Equação: 2.00x² + 3.00x + 29.00 = 0\n",
            "Valor de Delta (Δ): -223.00\n",
            "----------------------------------------\n",
            "Resultado: A equação não possui raízes reais.\n"
          ]
        }
      ],
      "source": [
        "!gcc equacao.c -o equacao -lm\n",
        "!./equacao"
      ]
    },
    {
      "cell_type": "markdown",
      "metadata": {
        "id": "-zdI03_7ufkC"
      },
      "source": [
        "Exercício 8 - Validador de triângulos"
      ]
    },
    {
      "cell_type": "code",
      "execution_count": 20,
      "metadata": {
        "id": "Z0AJdWIHulGc",
        "colab": {
          "base_uri": "https://localhost:8080/"
        },
        "outputId": "a343dd64-3383-4b63-f802-f55f3102b065"
      },
      "outputs": [
        {
          "output_type": "stream",
          "name": "stdout",
          "text": [
            "Overwriting triangulo.c\n"
          ]
        }
      ],
      "source": [
        "%%writefile triangulo.c\n",
        "#include <stdio.h>\n",
        "#include <math.h> // Necessária para a função pow()\n",
        "#include <locale.h>\n",
        "\n",
        "int main() {\n",
        "    // Configura o programa para usar a acentuação do português\n",
        "    setlocale(LC_ALL, \"Portuguese\");\n",
        "\n",
        "    double l1, l2, l3;\n",
        "\n",
        "    printf(\"--- Validador e Classificador de Triângulos ---\\n\");\n",
        "    printf(\"Digite o comprimento do primeiro lado: \");\n",
        "    scanf(\"%lf\", &l1);\n",
        "    printf(\"Digite o comprimento do segundo lado: \");\n",
        "    scanf(\"%lf\", &l2);\n",
        "    printf(\"Digite o comprimento do terceiro lado: \");\n",
        "    scanf(\"%lf\", &l3);\n",
        "\n",
        "    // 1. Condição de existência de um triângulo\n",
        "    // A soma de dois lados quaisquer deve ser sempre maior que o terceiro lado.\n",
        "    if ((l1 + l2 > l3) && (l1 + l3 > l2) && (l2 + l3 > l1)) {\n",
        "        printf(\"\\n=> Os lados %.2f, %.2f e %.2f PODEM formar um triângulo.\\n\", l1, l2, l3);\n",
        "\n",
        "        printf(\"\\n--- Classificações ---\\n\");\n",
        "\n",
        "        // 2. Classificação quanto aos LADOS\n",
        "        if (l1 == l2 && l2 == l3) {\n",
        "            printf(\"Quanto aos lados: Equilátero (todos os lados iguais).\\n\");\n",
        "        } else if (l1 == l2 || l1 == l3 || l2 == l3) {\n",
        "            printf(\"Quanto aos lados: Isósceles (dois lados iguais).\\n\");\n",
        "        } else {\n",
        "            printf(\"Quanto aos lados: Escaleno (todos os lados diferentes).\\n\");\n",
        "        }\n",
        "\n",
        "        // 3. Classificação quanto aos ÂNGULOS\n",
        "        // Primeiro, identificamos o maior lado (hipotenusa em potencial), que chamaremos de 'a'.\n",
        "        double a, b, c;\n",
        "        if (l1 >= l2 && l1 >= l3) {\n",
        "            a = l1; b = l2; c = l3;\n",
        "        } else if (l2 >= l1 && l2 >= l3) {\n",
        "            a = l2; b = l1; c = l3;\n",
        "        } else {\n",
        "            a = l3; b = l1; c = l2;\n",
        "        }\n",
        "\n",
        "        // Aplicamos o Teorema de Pitágoras e suas variações\n",
        "        double a_quadrado = pow(a, 2);\n",
        "        double soma_quadrados_bc = pow(b, 2) + pow(c, 2);\n",
        "\n",
        "        if (a_quadrado == soma_quadrados_bc) {\n",
        "            printf(\"Quanto aos ângulos: Retângulo (o quadrado do maior lado é igual à soma dos quadrados dos outros dois).\\n\");\n",
        "        } else if (a_quadrado < soma_quadrados_bc) {\n",
        "            printf(\"Quanto aos ângulos: Acutângulo (o quadrado do maior lado é menor que a soma dos quadrados dos outros dois).\\n\");\n",
        "        } else { // a_quadrado > soma_quadrados_bc\n",
        "            printf(\"Quanto aos ângulos: Obtusângulo (o quadrado do maior lado é maior que a soma dos quadrados dos outros dois).\\n\");\n",
        "        }\n",
        "\n",
        "    } else {\n",
        "        printf(\"\\n=> Os lados %.2f, %.2f e %.2f NÃO PODEM formar um triângulo.\\n\", l1, l2, l3);\n",
        "        printf(\"Motivo: A soma de quaisquer dois lados deve ser maior que o terceiro lado.\\n\");\n",
        "    }\n",
        "\n",
        "    return 0;\n",
        "}"
      ]
    },
    {
      "cell_type": "code",
      "metadata": {
        "colab": {
          "base_uri": "https://localhost:8080/"
        },
        "id": "e1fc01cc",
        "outputId": "c52e0165-5e72-4556-d530-a006ed298992"
      },
      "source": [
        "!gcc triangulo.c -o triangulo -lm\n",
        "!./triangulo"
      ],
      "execution_count": 21,
      "outputs": [
        {
          "output_type": "stream",
          "name": "stdout",
          "text": [
            "--- Validador e Classificador de Triângulos ---\n",
            "Digite o comprimento do primeiro lado: 5\n",
            "Digite o comprimento do segundo lado: 7\n",
            "Digite o comprimento do terceiro lado: 5\n",
            "\n",
            "=> Os lados 5.00, 7.00 e 5.00 PODEM formar um triângulo.\n",
            "\n",
            "--- Classificações ---\n",
            "Quanto aos lados: Isósceles (dois lados iguais).\n",
            "Quanto aos ângulos: Acutângulo (o quadrado do maior lado é menor que a soma dos quadrados dos outros dois).\n"
          ]
        }
      ]
    }
  ],
  "metadata": {
    "colab": {
      "provenance": [],
      "authorship_tag": "ABX9TyPqW2pWl5wTUObK2Gk5BpN3",
      "include_colab_link": true
    },
    "kernelspec": {
      "display_name": "Python 3",
      "name": "python3"
    },
    "language_info": {
      "name": "python"
    }
  },
  "nbformat": 4,
  "nbformat_minor": 0
}