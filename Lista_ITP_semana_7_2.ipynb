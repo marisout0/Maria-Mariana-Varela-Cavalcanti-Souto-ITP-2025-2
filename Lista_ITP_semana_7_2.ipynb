{
  "nbformat": 4,
  "nbformat_minor": 0,
  "metadata": {
    "colab": {
      "provenance": [],
      "authorship_tag": "ABX9TyPc2WLld8Bvyvi/1gQbAKU+",
      "include_colab_link": true
    },
    "kernelspec": {
      "name": "python3",
      "display_name": "Python 3"
    },
    "language_info": {
      "name": "python"
    }
  },
  "cells": [
    {
      "cell_type": "markdown",
      "metadata": {
        "id": "view-in-github",
        "colab_type": "text"
      },
      "source": [
        "<a href=\"https://colab.research.google.com/github/marisout0/Maria-Mariana-Varela-Cavalcanti-Souto-ITP-2025-2/blob/main/Lista_ITP_semana_7_2.ipynb\" target=\"_parent\"><img src=\"https://colab.research.google.com/assets/colab-badge.svg\" alt=\"Open In Colab\"/></a>"
      ]
    },
    {
      "cell_type": "code",
      "metadata": {
        "colab": {
          "base_uri": "https://localhost:8080/"
        },
        "id": "a4954cba",
        "outputId": "29be6a27-3e4a-4df6-87b3-9bfaeb850d31"
      },
      "source": [
        "!gcc --version"
      ],
      "execution_count": null,
      "outputs": [
        {
          "output_type": "stream",
          "name": "stdout",
          "text": [
            "gcc (Ubuntu 11.4.0-1ubuntu1~22.04.2) 11.4.0\n",
            "Copyright (C) 2021 Free Software Foundation, Inc.\n",
            "This is free software; see the source for copying conditions.  There is NO\n",
            "warranty; not even for MERCHANTABILITY or FITNESS FOR A PARTICULAR PURPOSE.\n",
            "\n"
          ]
        }
      ]
    },
    {
      "cell_type": "code",
      "metadata": {
        "colab": {
          "base_uri": "https://localhost:8080/"
        },
        "id": "d718202d",
        "outputId": "c032c694-df3a-43c7-af8b-2369200350fa"
      },
      "source": [
        "%%writefile verificador_de_placa.c\n",
        "\n",
        "\n",
        "#include <stdio.h>\n",
        "#include <string.h> // Para strlen()\n",
        "#include <ctype.h>  // Para isupper() e isdigit()\n",
        "\n",
        "// Função auxiliar para verificar se um caractere é Letra Maiúscula\n",
        "int ehLetra(char c) {\n",
        "    return isupper(c); // isupper() verifica se é maiúscula\n",
        "}\n",
        "\n",
        "// Função auxiliar para verificar se um caractere é Algarismo\n",
        "int ehAlgarismo(char c) {\n",
        "    return isdigit(c); // isdigit() verifica se é 0-9\n",
        "}\n",
        "\n",
        "int main() {\n",
        "    // Placa de até 10 caracteres +1 para '\\0'\n",
        "    char placa[11];\n",
        "\n",
        "    // Leitura da palavra (sem espaços)\n",
        "    scanf(\"%s\", placa);\n",
        "\n",
        "    int len = strlen(placa);\n",
        "    int valido = 0; // Flag para marcar se encontramos um padrão\n",
        "\n",
        "    // 1. Verifica Padrão Brasileiro: LLL-AAAA (Tamanho 8)\n",
        "    if (len == 8) {\n",
        "        if (ehLetra(placa[0]) && ehLetra(placa[1]) && ehLetra(placa[2]) &&\n",
        "            placa[3] == '-' &&\n",
        "            ehAlgarismo(placa[4]) && ehAlgarismo(placa[5]) &&\n",
        "            ehAlgarismo(placa[6]) && ehAlgarismo(placa[7]))\n",
        "        {\n",
        "            printf(\"brasileiro\\n\");\n",
        "            valido = 1;\n",
        "        }\n",
        "    }\n",
        "    // 2. Verifica Padrão Mercosul: LLLALAA (Tamanho 7)\n",
        "    else if (len == 7) {\n",
        "        if (ehLetra(placa[0]) && ehLetra(placa[1]) && ehLetra(placa[2]) &&\n",
        "            ehAlgarismo(placa[3]) &&\n",
        "            ehLetra(placa[4]) &&\n",
        "            ehAlgarismo(placa[5]) && ehAlgarismo(placa[6]))\n",
        "        {\n",
        "            printf(\"mercosul\\n\");\n",
        "            valido = 1;\n",
        "        }\n",
        "    }\n",
        "\n",
        "    // 3. Se não for nenhum dos padrões, é inválido\n",
        "    if (valido == 0) {\n",
        "        printf(\"inválido\\n\");\n",
        "    }\n",
        "\n",
        "    return 0;\n",
        "}"
      ],
      "execution_count": 6,
      "outputs": [
        {
          "output_type": "stream",
          "name": "stdout",
          "text": [
            "Overwriting verificador_de_placa.c\n"
          ]
        }
      ]
    },
    {
      "cell_type": "code",
      "metadata": {
        "id": "95d19d54"
      },
      "source": [
        "!gcc verificador_de_placa.c -o verificador_de_placa"
      ],
      "execution_count": 7,
      "outputs": []
    },
    {
      "cell_type": "code",
      "metadata": {
        "colab": {
          "base_uri": "https://localhost:8080/"
        },
        "id": "20db5b4d",
        "outputId": "2203c67f-0555-49f3-e330-79b6e3992271"
      },
      "source": [
        "!./verificador_de_placa"
      ],
      "execution_count": 8,
      "outputs": [
        {
          "output_type": "stream",
          "name": "stdout",
          "text": [
            " QWE-3232\n",
            "brasileiro\n"
          ]
        }
      ]
    }
  ]
}