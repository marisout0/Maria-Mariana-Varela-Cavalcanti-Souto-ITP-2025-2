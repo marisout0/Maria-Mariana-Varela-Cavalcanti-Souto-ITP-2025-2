{
  "nbformat": 4,
  "nbformat_minor": 0,
  "metadata": {
    "colab": {
      "provenance": [],
      "authorship_tag": "ABX9TyOEveVabzS3lA7/V06GC7KH",
      "include_colab_link": true
    },
    "kernelspec": {
      "name": "python3",
      "display_name": "Python 3"
    },
    "language_info": {
      "name": "python"
    }
  },
  "cells": [
    {
      "cell_type": "markdown",
      "metadata": {
        "id": "view-in-github",
        "colab_type": "text"
      },
      "source": [
        "<a href=\"https://colab.research.google.com/github/marisout0/Maria-Mariana-Varela-Cavalcanti-Souto-ITP-2025-2/blob/main/Lista_ITP_semana_5.ipynb\" target=\"_parent\"><img src=\"https://colab.research.google.com/assets/colab-badge.svg\" alt=\"Open In Colab\"/></a>"
      ]
    },
    {
      "cell_type": "markdown",
      "source": [
        "Lista de Exercícios - Semana 5: Vetores\n",
        "\n",
        "\n",
        "---\n",
        "\n"
      ],
      "metadata": {
        "id": "-UH0i20lRrWU"
      }
    },
    {
      "cell_type": "markdown",
      "source": [
        "Problema 1 - MEC (Correção de Provas)\n"
      ],
      "metadata": {
        "id": "LeijvMevRzMY"
      }
    },
    {
      "cell_type": "code",
      "metadata": {
        "colab": {
          "base_uri": "https://localhost:8080/"
        },
        "id": "a4954cba",
        "outputId": "d108b7f2-2cd9-47ad-e6a3-c86c9d231eee"
      },
      "source": [
        "!gcc --version"
      ],
      "execution_count": null,
      "outputs": [
        {
          "output_type": "stream",
          "name": "stdout",
          "text": [
            "gcc (Ubuntu 11.4.0-1ubuntu1~22.04.2) 11.4.0\n",
            "Copyright (C) 2021 Free Software Foundation, Inc.\n",
            "This is free software; see the source for copying conditions.  There is NO\n",
            "warranty; not even for MERCHANTABILITY or FITNESS FOR A PARTICULAR PURPOSE.\n",
            "\n"
          ]
        }
      ]
    },
    {
      "cell_type": "code",
      "metadata": {
        "colab": {
          "base_uri": "https://localhost:8080/"
        },
        "id": "d1b89388",
        "outputId": "a65a8bb5-1c98-4242-b96a-d89b948799b2"
      },
      "source": [
        "#código em C\n",
        "%%writefile main.c\n",
        "#include <stdio.h>\n",
        "#include <string.h>\n",
        "\n",
        "int main() {\n",
        "    int n; // Número de questões\n",
        "    int gabarito[20]; // Vetor para o gabarito (máx 20 questões)\n",
        "    int respostas_aluno[20]; // Vetor para as respostas do aluno\n",
        "    int acertos = 0; // Contador de acertos\n",
        "\n",
        "    // 1. Leitura do número de questões\n",
        "    printf(\"Digite o numero de questoes (max 20): \");\n",
        "    scanf(\"%d\", &n);\n",
        "\n",
        "    // 2. Leitura do Gabarito\n",
        "    printf(\"Digite as %d respostas do gabarito (1 a 5):\\n\", n);\n",
        "    for (int i = 0; i < n; i++) {\n",
        "        scanf(\"%d\", &gabarito[i]);\n",
        "    }\n",
        "\n",
        "    // 3. Leitura das Respostas do Aluno\n",
        "    printf(\"Digite as %d respostas do aluno (1 a 5):\\n\", n);\n",
        "    for (int i = 0; i < n; i++) {\n",
        "        scanf(\"%d\", &respostas_aluno[i]);\n",
        "    }\n",
        "\n",
        "    // 4. Correção da Prova e Contagem de Acertos\n",
        "    for (int i = 0; i < n; i++) {\n",
        "        if (gabarito[i] == respostas_aluno[i]) {\n",
        "            acertos++;\n",
        "        }\n",
        "    }\n",
        "\n",
        "    // 5. Impressão do Resultado com a flexão correta (acerto/acertos)\n",
        "    printf(\"%d \", acertos);\n",
        "    if (acertos == 1) {\n",
        "        printf(\"acerto\\n\");\n",
        "    } else {\n",
        "        printf(\"acertos\\n\");\n",
        "    }\n",
        "\n",
        "    return 0;\n",
        "}"
      ],
      "execution_count": null,
      "outputs": [
        {
          "output_type": "stream",
          "name": "stdout",
          "text": [
            "Writing main.c\n"
          ]
        }
      ]
    },
    {
      "cell_type": "code",
      "metadata": {
        "id": "16d3c567"
      },
      "source": [
        "# Compilando o arquivo C usando gcc\n",
        "!gcc main.c -o main"
      ],
      "execution_count": null,
      "outputs": []
    },
    {
      "cell_type": "code",
      "metadata": {
        "colab": {
          "base_uri": "https://localhost:8080/"
        },
        "id": "5d404f11",
        "outputId": "e805d953-72db-4372-9834-bbb1ddbc50f5"
      },
      "source": [
        "# Executando o programa compilado\n",
        "!./main"
      ],
      "execution_count": null,
      "outputs": [
        {
          "output_type": "stream",
          "name": "stdout",
          "text": [
            "Digite o numero de questoes (max 20): 5\n",
            "Digite as 5 respostas do gabarito (1 a 5):\n",
            "1\n",
            "2\n",
            "3\n",
            "4\n",
            "5\n",
            "Digite as 5 respostas do aluno (1 a 5):\n",
            "3\n",
            "2\n",
            "3\n",
            "4\n",
            "1\n",
            "3 acertos\n"
          ]
        }
      ]
    },
    {
      "cell_type": "markdown",
      "source": [
        "Problema 2 - Álbum de figurinhas\n"
      ],
      "metadata": {
        "id": "oW9kSh3xUL9Z"
      }
    },
    {
      "cell_type": "code",
      "metadata": {
        "colab": {
          "base_uri": "https://localhost:8080/"
        },
        "id": "231246ee",
        "outputId": "d797cae9-0a93-4546-9835-36925c1de02a"
      },
      "source": [
        "# código em C\n",
        "%%writefile album.c\n",
        "#include <stdio.h>\n",
        "#include <stdbool.h> // Para usar 'bool' (verdadeiro/falso)\n",
        "\n",
        "int main() {\n",
        "    int m, n; // m = total de figurinhas, n = figurinhas possuídas\n",
        "\n",
        "    printf(\"Digite o total de figurinhas (m <= 1000) e as possuidas (n <= m): \");\n",
        "    scanf(\"%d %d\", &m, &n);\n",
        "\n",
        "    // Vetor de controle: 'bool' para marcar se a figurinha de índice 'i' existe.\n",
        "    // O tamanho é 'm + 1' porque as figurinhas são numeradas de 1 a m.\n",
        "    bool tenho_figurinha[1001] = {false};\n",
        "\n",
        "    printf(\"Digite os numeros das %d figurinhas que voce possui:\\n\", n);\n",
        "    for (int i = 0; i < n; i++) {\n",
        "        int num_figurinha;\n",
        "        scanf(\"%d\", &num_figurinha);\n",
        "\n",
        "        // Marca a figurinha como \"possuída\" (true) no vetor de controle.\n",
        "        tenho_figurinha[num_figurinha] = true;\n",
        "    }\n",
        "\n",
        "    // Procura pelas figurinhas faltantes.\n",
        "    printf(\"Figurinhas faltando (em ordem crescente): \");\n",
        "\n",
        "    // O loop vai de 1 até 'm' (total de figurinhas).\n",
        "    for (int i = 1; i <= m; i++) {\n",
        "        // Se o valor for 'false', significa que o colecionador NÃO a possui.\n",
        "        if (tenho_figurinha[i] == false) {\n",
        "            printf(\"%d \", i); // Imprime a figurinha faltante\n",
        "        }\n",
        "    }\n",
        "    printf(\"\\n\");\n",
        "\n",
        "    return 0;\n",
        "}"
      ],
      "execution_count": null,
      "outputs": [
        {
          "output_type": "stream",
          "name": "stdout",
          "text": [
            "Writing album.c\n"
          ]
        }
      ]
    },
    {
      "cell_type": "code",
      "metadata": {
        "id": "0cfbbf44"
      },
      "source": [
        "# Compile o arquivo C usando gcc\n",
        "!gcc album.c -o album"
      ],
      "execution_count": null,
      "outputs": []
    },
    {
      "cell_type": "code",
      "metadata": {
        "colab": {
          "base_uri": "https://localhost:8080/"
        },
        "id": "a5795a70",
        "outputId": "a091f443-beaf-4123-bea8-8b6883acfea2"
      },
      "source": [
        "# Execute o programa compilado\n",
        "!./album"
      ],
      "execution_count": null,
      "outputs": [
        {
          "output_type": "stream",
          "name": "stdout",
          "text": [
            "Digite o total de figurinhas (m <= 1000) e as possuidas (n <= m): 20\n",
            "10\n",
            "Digite os numeros das 10 figurinhas que voce possui:\n",
            "6\n",
            "2\n",
            "7\n",
            "8\n",
            "9\n",
            "11\n",
            "1\n",
            "2\n",
            "3\n",
            "4\n",
            "Figurinhas faltando (em ordem crescente): 5 10 12 13 14 15 16 17 18 19 20 \n"
          ]
        }
      ]
    },
    {
      "cell_type": "markdown",
      "source": [
        "Problema 3 - A construção da ponte\n"
      ],
      "metadata": {
        "id": "6yvCZM5UU3qu"
      }
    },
    {
      "cell_type": "code",
      "metadata": {
        "colab": {
          "base_uri": "https://localhost:8080/"
        },
        "id": "b3bdbaec",
        "outputId": "2285ca87-e5fb-47f3-82a8-07f703a9fdde"
      },
      "source": [
        "# código em C\n",
        "%%writefile ponte.c\n",
        "#include <stdio.h>\n",
        "\n",
        "int main() {\n",
        "    int n; // Número de medições de altura (assuma n <= 30 [cite: 218])\n",
        "    int alturas[30]; // Vetor para armazenar as alturas\n",
        "    int maior_altura = 0;\n",
        "    int indice1 = -1, indice2 = -1; // Índices das duas ocorrências da maior altura\n",
        "\n",
        "    printf(\"Digite o numero de medicoes de altura (n <= 30): \");\n",
        "    scanf(\"%d\", &n);\n",
        "\n",
        "    printf(\"Digite as %d alturas (inteiros maiores que 0):\\n\", n);\n",
        "    for (int i = 0; i < n; i++) {\n",
        "        scanf(\"%d\", &alturas[i]);\n",
        "\n",
        "        // Encontra a maior altura durante a leitura\n",
        "        if (alturas[i] > maior_altura) {\n",
        "            maior_altura = alturas[i];\n",
        "        }\n",
        "    }\n",
        "\n",
        "    // 1. Encontra os índices da primeira e segunda ocorrência da maior altura\n",
        "    for (int i = 0; i < n; i++) {\n",
        "        if (alturas[i] == maior_altura) {\n",
        "            if (indice1 == -1) {\n",
        "                // Primeira ocorrência\n",
        "                indice1 = i;\n",
        "            } else {\n",
        "                // Segunda ocorrência (o problema assume que há exatamente duas [cite: 218])\n",
        "                indice2 = i;\n",
        "            }\n",
        "        }\n",
        "    }\n",
        "\n",
        "    // 2. Calcula o comprimento da ponte\n",
        "    // O comprimento é a distância entre os dois índices, que é dado por:\n",
        "    // (índice da segunda ocorrência) - (índice da primeira ocorrência)\n",
        "    int comprimento_ponte = indice2 - indice1;\n",
        "\n",
        "    printf(\"O comprimento da ponte e: %d\\n\", comprimento_ponte);\n",
        "\n",
        "    return 0;\n",
        "}"
      ],
      "execution_count": null,
      "outputs": [
        {
          "output_type": "stream",
          "name": "stdout",
          "text": [
            "Writing ponte.c\n"
          ]
        }
      ]
    },
    {
      "cell_type": "code",
      "metadata": {
        "id": "33c75dac"
      },
      "source": [
        "# Compile o arquivo C usando gcc\n",
        "!gcc ponte.c -o ponte"
      ],
      "execution_count": null,
      "outputs": []
    },
    {
      "cell_type": "code",
      "metadata": {
        "colab": {
          "base_uri": "https://localhost:8080/"
        },
        "id": "701555ba",
        "outputId": "11384f61-436c-426b-fdb0-97ad965596fb"
      },
      "source": [
        "# Execute o programa compilado\n",
        "!./ponte"
      ],
      "execution_count": null,
      "outputs": [
        {
          "output_type": "stream",
          "name": "stdout",
          "text": [
            "Digite o numero de medicoes de altura (n <= 30): 7\n",
            "Digite as 7 alturas (inteiros maiores que 0):\n",
            "2\n",
            "1\n",
            "3\n",
            "4\n",
            "6\n",
            "3\n",
            "2\n",
            "O comprimento da ponte e: -5\n"
          ]
        }
      ]
    },
    {
      "cell_type": "markdown",
      "source": [
        "Problema 4 - Em busca do tesouro perdido\n"
      ],
      "metadata": {
        "id": "PFEqMom-VZNY"
      }
    },
    {
      "cell_type": "code",
      "metadata": {
        "colab": {
          "base_uri": "https://localhost:8080/"
        },
        "id": "bf937b99",
        "outputId": "e64bbda7-0a1d-45b0-dce8-3535d8da3c1d"
      },
      "source": [
        "#código em C\n",
        "%%writefile tesouro.c\n",
        "#include <stdio.h>\n",
        "#include <stdbool.h>\n",
        "\n",
        "// O mapa tem 10 ilhas numeradas de 0 a 9[cite: 227].\n",
        "#define NUM_ILHAS 10\n",
        "\n",
        "int main() {\n",
        "    // Mapa: v[i] = ilha sugerida pelos nativos da ilha i.\n",
        "    int v[NUM_ILHAS];\n",
        "    // Visitados: Armazena o índice (ilha) que já foi visitado.\n",
        "    // Usamos um array bool para marcar quais ilhas foram visitadas.\n",
        "    bool visitados[NUM_ILHAS] = {false};\n",
        "    int ilha_atual = 0; // O pirata sempre parte da ilha 0.\n",
        "\n",
        "    printf(\"Digite as sugestoes dos nativos para as 10 ilhas (0 a 9):\\n\");\n",
        "    // Leitura do mapa (vetor v)\n",
        "    for (int i = 0; i < NUM_ILHAS; i++) {\n",
        "        scanf(\"%d\", &v[i]);\n",
        "    }\n",
        "\n",
        "    // Loop para seguir a sequência de ilhas.\n",
        "    while (true) {\n",
        "        // 1. Verifica se a ilha atual já foi visitada\n",
        "        if (visitados[ilha_atual] == true) {\n",
        "            // Se sim, esta é a primeira ilha visitada uma segunda vez.\n",
        "            printf(\"A primeira ilha visitada uma segunda vez e: %d\\n\", ilha_atual);\n",
        "            break; // Sai do loop\n",
        "        }\n",
        "\n",
        "        // 2. Marca a ilha atual como visitada\n",
        "        visitados[ilha_atual] = true;\n",
        "\n",
        "        // 3. Move para a próxima ilha (seguindo a sugestão do nativo)\n",
        "        // A próxima ilha é o valor que está em v[ilha_atual].\n",
        "        ilha_atual = v[ilha_atual];\n",
        "    }\n",
        "\n",
        "    return 0;\n",
        "}"
      ],
      "execution_count": null,
      "outputs": [
        {
          "output_type": "stream",
          "name": "stdout",
          "text": [
            "Overwriting tesouro.c\n"
          ]
        }
      ]
    },
    {
      "cell_type": "code",
      "metadata": {
        "id": "d3e11b5c"
      },
      "source": [
        "# Compilando o arquivo C\n",
        "!gcc tesouro.c -o tesouro"
      ],
      "execution_count": null,
      "outputs": []
    },
    {
      "cell_type": "code",
      "metadata": {
        "colab": {
          "base_uri": "https://localhost:8080/"
        },
        "id": "684b2899",
        "outputId": "47ff9099-24de-437d-82c4-e6d07a768abf"
      },
      "source": [
        "# Executando o programa compilado\n",
        "!./tesouro"
      ],
      "execution_count": null,
      "outputs": [
        {
          "output_type": "stream",
          "name": "stdout",
          "text": [
            "Digite as sugestoes dos nativos para as 10 ilhas (0 a 9):\n",
            "1\n",
            "2\n",
            "3\n",
            "4\n",
            "5\n",
            "6\n",
            "7\n",
            "8\n",
            "9\n",
            "3\n",
            "A primeira ilha visitada uma segunda vez e: 3\n"
          ]
        }
      ]
    }
  ]
}