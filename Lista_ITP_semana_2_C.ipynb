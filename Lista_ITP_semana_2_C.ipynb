{
  "nbformat": 4,
  "nbformat_minor": 0,
  "metadata": {
    "colab": {
      "provenance": [],
      "authorship_tag": "ABX9TyOVzNezOs07fOqH8XwXZLCN",
      "include_colab_link": true
    },
    "kernelspec": {
      "name": "python3",
      "display_name": "Python 3"
    },
    "language_info": {
      "name": "python"
    }
  },
  "cells": [
    {
      "cell_type": "markdown",
      "metadata": {
        "id": "view-in-github",
        "colab_type": "text"
      },
      "source": [
        "<a href=\"https://colab.research.google.com/github/marisout0/Maria-Mariana-Varela-Cavalcanti-Souto-ITP-2025-2/blob/main/Lista_ITP_semana_2_C.ipynb\" target=\"_parent\"><img src=\"https://colab.research.google.com/assets/colab-badge.svg\" alt=\"Open In Colab\"/></a>"
      ]
    },
    {
      "cell_type": "markdown",
      "source": [
        "Baixando Compilador em C"
      ],
      "metadata": {
        "id": "mhgWMZizpDql"
      }
    },
    {
      "cell_type": "code",
      "metadata": {
        "colab": {
          "base_uri": "https://localhost:8080/"
        },
        "id": "8a3fdf88",
        "outputId": "ae793ee4-0bed-43f4-ead0-36144fe5d8f0"
      },
      "source": [
        "!apt update\n",
        "!apt install build-essential"
      ],
      "execution_count": null,
      "outputs": [
        {
          "output_type": "stream",
          "name": "stdout",
          "text": [
            "\u001b[33m\r0% [Working]\u001b[0m\r            \rGet:1 https://developer.download.nvidia.com/compute/cuda/repos/ubuntu2204/x86_64  InRelease [1,581 B]\n",
            "\r            \rGet:2 https://cli.github.com/packages stable InRelease [3,917 B]\n",
            "Get:3 https://cloud.r-project.org/bin/linux/ubuntu jammy-cran40/ InRelease [3,632 B]\n",
            "Get:4 http://security.ubuntu.com/ubuntu jammy-security InRelease [129 kB]\n",
            "Hit:5 http://archive.ubuntu.com/ubuntu jammy InRelease\n",
            "Get:6 https://cli.github.com/packages stable/main amd64 Packages [346 B]\n",
            "Get:7 http://archive.ubuntu.com/ubuntu jammy-updates InRelease [128 kB]\n",
            "Get:8 https://r2u.stat.illinois.edu/ubuntu jammy InRelease [6,555 B]\n",
            "Get:9 https://developer.download.nvidia.com/compute/cuda/repos/ubuntu2204/x86_64  Packages [2,006 kB]\n",
            "Get:10 http://archive.ubuntu.com/ubuntu jammy-backports InRelease [127 kB]\n",
            "Hit:11 https://ppa.launchpadcontent.net/deadsnakes/ppa/ubuntu jammy InRelease\n",
            "Hit:12 https://ppa.launchpadcontent.net/graphics-drivers/ppa/ubuntu jammy InRelease\n",
            "Hit:13 https://ppa.launchpadcontent.net/ubuntugis/ppa/ubuntu jammy InRelease\n",
            "Get:14 https://r2u.stat.illinois.edu/ubuntu jammy/main amd64 Packages [2,792 kB]\n",
            "Get:15 http://security.ubuntu.com/ubuntu jammy-security/universe amd64 Packages [1,273 kB]\n",
            "Get:16 http://archive.ubuntu.com/ubuntu jammy-updates/universe amd64 Packages [1,581 kB]\n",
            "Get:17 http://security.ubuntu.com/ubuntu jammy-security/main amd64 Packages [3,310 kB]\n",
            "Get:18 https://r2u.stat.illinois.edu/ubuntu jammy/main all Packages [9,253 kB]\n",
            "Get:19 http://archive.ubuntu.com/ubuntu jammy-updates/main amd64 Packages [3,623 kB]\n",
            "Fetched 24.2 MB in 6s (4,059 kB/s)\n",
            "Reading package lists... Done\n",
            "Building dependency tree... Done\n",
            "Reading state information... Done\n",
            "39 packages can be upgraded. Run 'apt list --upgradable' to see them.\n",
            "\u001b[1;33mW: \u001b[0mSkipping acquire of configured file 'main/source/Sources' as repository 'https://r2u.stat.illinois.edu/ubuntu jammy InRelease' does not seem to provide it (sources.list entry misspelt?)\u001b[0m\n",
            "Reading package lists... Done\n",
            "Building dependency tree... Done\n",
            "Reading state information... Done\n",
            "build-essential is already the newest version (12.9ubuntu3).\n",
            "0 upgraded, 0 newly installed, 0 to remove and 39 not upgraded.\n"
          ]
        }
      ]
    },
    {
      "cell_type": "markdown",
      "source": [
        "Lista semana 2"
      ],
      "metadata": {
        "id": "b13sAiKipTEt"
      }
    },
    {
      "cell_type": "markdown",
      "source": [
        "Exercício 1 - calculadora IMC\n",
        "\n",
        "\n"
      ],
      "metadata": {
        "id": "-0k0JCKKpqB4"
      }
    },
    {
      "cell_type": "code",
      "source": [
        "%%writefile imc.c\n",
        "#include <stdio.h>\n",
        "#include <math.h>\n",
        "\n",
        "int main() {\n",
        "    // Declaração das variáveis. Usando float para permitir valores com casas decimais.\n",
        "    float peso, altura, imc;\n",
        "\n",
        "    // Solicita e lê o peso do usuário\n",
        "    printf(\"Digite o peso em kg: \");\n",
        "    scanf(\"%f\", &peso);\n",
        "\n",
        "    // Solicita e lê a altura do usuário\n",
        "    printf(\"Digite a altura em metros: \");\n",
        "    scanf(\"%f\", &altura);\n",
        "\n",
        "    // Calcula o IMC usando a fórmula IMC = peso / (altura * altura) ou pow(altura, 2)\n",
        "    // O uso de parênteses garante que a multiplicação da altura seja feita antes da divisão.\n",
        "    imc = peso / pow(altura, 2);\n",
        "\n",
        "    // Exibe o resultado do IMC com duas casas decimais.\n",
        "    // O \".2f\" no printf formata a saída.\n",
        "    printf(\"O seu IMC e: %.2f\\n\", imc);\n",
        "\n",
        "    return 0;\n",
        "}"
      ],
      "metadata": {
        "colab": {
          "base_uri": "https://localhost:8080/"
        },
        "id": "URnTZX2Ilx5K",
        "outputId": "c3fd37a6-81f5-4263-e06e-cfa565c8ab28"
      },
      "execution_count": null,
      "outputs": [
        {
          "output_type": "stream",
          "name": "stdout",
          "text": [
            "Overwriting imc.c\n"
          ]
        }
      ]
    },
    {
      "cell_type": "code",
      "metadata": {
        "colab": {
          "base_uri": "https://localhost:8080/"
        },
        "id": "cf9af04e",
        "outputId": "0fbd5790-5a98-4463-d95b-345c2641abd7"
      },
      "source": [
        "!gcc imc.c -o imc -lm\n",
        "!./imc"
      ],
      "execution_count": null,
      "outputs": [
        {
          "output_type": "stream",
          "name": "stdout",
          "text": [
            "Digite o peso em kg: 67\n",
            "Digite a altura em metros: 1.65\n",
            "O seu IMC e: 24.61\n"
          ]
        }
      ]
    },
    {
      "cell_type": "markdown",
      "source": [
        "Exercício 2 - conversor de temperatura"
      ],
      "metadata": {
        "id": "tC27-YD0pwgI"
      }
    },
    {
      "cell_type": "code",
      "source": [
        "%%writefile temperaturas.c\n",
        "#include <stdio.h>\n",
        "\n",
        "int main() {\n",
        "    // Declaração das variáveis para armazenar as temperaturas.\n",
        "    float celsius, fahrenheit, kelvin;\n",
        "\n",
        "    // Solicita e lê a temperatura em Celsius do usuário.\n",
        "    printf(\"Digite a temperatura em graus Celsius: \");\n",
        "    scanf(\"%f\", &celsius);\n",
        "\n",
        "    // Converte Celsius para Fahrenheit usando a fórmula.\n",
        "    fahrenheit = (celsius * 9 / 5) + 32;\n",
        "\n",
        "    // Converte Celsius para Kelvin usando a fórmula.\n",
        "    kelvin = celsius + 273.15;\n",
        "\n",
        "    // Exibe os resultados com uma casa decimal.\n",
        "    printf(\"Temperatura em Fahrenheit: %.1f\\n\", fahrenheit);\n",
        "    printf(\"Temperatura em Kelvin: %.1f\\n\", kelvin);\n",
        "\n",
        "    return 0;\n",
        "}"
      ],
      "metadata": {
        "colab": {
          "base_uri": "https://localhost:8080/"
        },
        "id": "rWR9lppUpz9h",
        "outputId": "f3034381-3b44-465f-a356-d3e604e1d88f"
      },
      "execution_count": null,
      "outputs": [
        {
          "output_type": "stream",
          "name": "stdout",
          "text": [
            "Writing temperaturas.c\n"
          ]
        }
      ]
    },
    {
      "cell_type": "code",
      "metadata": {
        "colab": {
          "base_uri": "https://localhost:8080/"
        },
        "id": "0e8ea8b0",
        "outputId": "fd6a6cd9-33df-4e64-a638-215d8f1218b4"
      },
      "source": [
        "!gcc temperaturas.c -o temperaturas\n",
        "!./temperaturas"
      ],
      "execution_count": null,
      "outputs": [
        {
          "output_type": "stream",
          "name": "stdout",
          "text": [
            "Digite a temperatura em graus Celsius: 30\n",
            "Temperatura em Fahrenheit: 86.0\n",
            "Temperatura em Kelvin: 303.1\n"
          ]
        }
      ]
    },
    {
      "cell_type": "markdown",
      "source": [
        "Exercício 3 - Calculara de juros compostos"
      ],
      "metadata": {
        "id": "7W0xkB_ZqmTt"
      }
    },
    {
      "cell_type": "code",
      "source": [
        "%%writefile juros.c\n",
        "#include <stdio.h>\n",
        "#include <math.h>\n",
        "int main() {\n",
        "    // Declaração de variáveis para o capital inicial, taxa de juros e tempo.\n",
        "    float capital_inicial, taxa_juros, montante;\n",
        "    int tempo;\n",
        "\n",
        "    // Solicita e lê o capital inicial, a taxa de juros e o tempo.\n",
        "    printf(\"Digite o capital inicial: \");\n",
        "    scanf(\"%f\", &capital_inicial);\n",
        "\n",
        "    printf(\"Digite a taxa de juros (em porcentagem): \");\n",
        "    scanf(\"%f\", &taxa_juros);\n",
        "\n",
        "    printf(\"Digite o tempo (em anos): \");\n",
        "    scanf(\"%d\", &tempo);\n",
        "\n",
        "    // Calcula o montante final usando a fórmula: Montante = Capital * (1 + taxa/100)^tempo\n",
        "    montante = capital_inicial * pow(1 + taxa_juros / 100, tempo);\n",
        "\n",
        "    // Exibe o montante final.\n",
        "    printf(\"O montante final e: %.2f\\n\", montante);\n",
        "\n",
        "    return 0;\n",
        "}"
      ],
      "metadata": {
        "colab": {
          "base_uri": "https://localhost:8080/"
        },
        "id": "ni7nQ2-Bqzse",
        "outputId": "01c331ea-2ff0-4c87-8fd2-550355295a2d"
      },
      "execution_count": null,
      "outputs": [
        {
          "output_type": "stream",
          "name": "stdout",
          "text": [
            "Writing juros.c\n"
          ]
        }
      ]
    },
    {
      "cell_type": "code",
      "metadata": {
        "colab": {
          "base_uri": "https://localhost:8080/"
        },
        "id": "9fd32652",
        "outputId": "1efd429b-39d4-4bf3-a99d-0c92fa0ba828"
      },
      "source": [
        "!gcc juros.c -o juros -lm\n",
        "!./juros"
      ],
      "execution_count": null,
      "outputs": [
        {
          "output_type": "stream",
          "name": "stdout",
          "text": [
            "Digite o capital inicial: 5000\n",
            "Digite a taxa de juros (em porcentagem): 20\n",
            "Digite o tempo (em anos): 7\n",
            "O montante final e: 17915.91\n"
          ]
        }
      ]
    },
    {
      "cell_type": "markdown",
      "source": [
        "Exercício 4 - Operações aritméticas básicas"
      ],
      "metadata": {
        "id": "N5_YSMVMriJ0"
      }
    },
    {
      "cell_type": "code",
      "metadata": {
        "colab": {
          "base_uri": "https://localhost:8080/"
        },
        "id": "5833c65f",
        "outputId": "fbe0bff7-a482-42d2-b1b4-cd7eee532c8d"
      },
      "source": [
        "%%writefile operacoes.c\n",
        "#include <stdio.h>\n",
        "\n",
        "int main() {\n",
        "    // Declaração de variáveis inteiras para os dois números\n",
        "    int num1, num2;\n",
        "\n",
        "    // Declaração de variáveis float para a divisão e a média, que podem ter decimais\n",
        "    float divisao, media;\n",
        "\n",
        "    // Solicita e lê os dois números inteiros do usuário.\n",
        "    printf(\"Digite o primeiro numero inteiro: \");\n",
        "    scanf(\"%d\", &num1);\n",
        "\n",
        "    printf(\"Digite o segundo numero inteiro: \");\n",
        "    scanf(\"%d\", &num2);\n",
        "\n",
        "    // Realiza as operações e exibe os resultados.\n",
        "    printf(\"Soma: %d\\n\", num1 + num2);\n",
        "    printf(\"Diferenca: %d\\n\", num1 - num2);\n",
        "    printf(\"Produto: %d\\n\", num1 * num2);\n",
        "\n",
        "    // Para a divisão real, é preciso \"converter\" um dos inteiros para float.\n",
        "    // Isso é feito com um \"cast\" (float).\n",
        "    divisao = (float)num1 / num2;\n",
        "    printf(\"Divisao real: %.2f\\n\", divisao);\n",
        "\n",
        "    // O resto da divisão (%) funciona apenas com inteiros.\n",
        "    printf(\"Resto da divisao inteira: %d\\n\", num1 % num2);\n",
        "\n",
        "    // A média também precisa ser float.\n",
        "    media = (float)(num1 + num2) / 2;\n",
        "    printf(\"Media aritmetica: %.2f\\n\", media);\n",
        "\n",
        "    return 0;\n",
        "}"
      ],
      "execution_count": null,
      "outputs": [
        {
          "output_type": "stream",
          "name": "stdout",
          "text": [
            "Writing operacoes.c\n"
          ]
        }
      ]
    },
    {
      "cell_type": "code",
      "metadata": {
        "colab": {
          "base_uri": "https://localhost:8080/"
        },
        "id": "bb22ce87",
        "outputId": "870c8569-f589-4cef-f67c-2d4392888966"
      },
      "source": [
        "!gcc operacoes.c -o operacoes\n",
        "!./operacoes"
      ],
      "execution_count": null,
      "outputs": [
        {
          "output_type": "stream",
          "name": "stdout",
          "text": [
            "Digite o primeiro numero inteiro: 2\n",
            "Digite o segundo numero inteiro: 5\n",
            "Soma: 7\n",
            "Diferenca: -3\n",
            "Produto: 10\n",
            "Divisao real: 0.40\n",
            "Resto da divisao inteira: 2\n",
            "Media aritmetica: 3.50\n"
          ]
        }
      ]
    }
  ]
}