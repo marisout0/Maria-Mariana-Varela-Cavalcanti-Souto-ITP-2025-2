{
  "nbformat": 4,
  "nbformat_minor": 0,
  "metadata": {
    "colab": {
      "provenance": [],
      "authorship_tag": "ABX9TyN7mGf9mugqv3+uimE9HLyx",
      "include_colab_link": true
    },
    "kernelspec": {
      "name": "python3",
      "display_name": "Python 3"
    },
    "language_info": {
      "name": "python"
    }
  },
  "cells": [
    {
      "cell_type": "markdown",
      "metadata": {
        "id": "view-in-github",
        "colab_type": "text"
      },
      "source": [
        "<a href=\"https://colab.research.google.com/github/marisout0/Maria-Mariana-Varela-Cavalcanti-Souto-ITP-2025-2/blob/main/Lista_ITP_semana_6.ipynb\" target=\"_parent\"><img src=\"https://colab.research.google.com/assets/colab-badge.svg\" alt=\"Open In Colab\"/></a>"
      ]
    },
    {
      "cell_type": "code",
      "metadata": {
        "colab": {
          "base_uri": "https://localhost:8080/"
        },
        "id": "a4954cba",
        "outputId": "33266c2b-83ec-4f60-ade3-63f79db0012b"
      },
      "source": [
        "!gcc --version"
      ],
      "execution_count": 9,
      "outputs": [
        {
          "output_type": "stream",
          "name": "stdout",
          "text": [
            "gcc (Ubuntu 11.4.0-1ubuntu1~22.04.2) 11.4.0\n",
            "Copyright (C) 2021 Free Software Foundation, Inc.\n",
            "This is free software; see the source for copying conditions.  There is NO\n",
            "warranty; not even for MERCHANTABILITY or FITNESS FOR A PARTICULAR PURPOSE.\n",
            "\n"
          ]
        }
      ]
    },
    {
      "cell_type": "markdown",
      "source": [
        "Lista de Exercícios - Semana 6: Funções\n"
      ],
      "metadata": {
        "id": "3_tJ35g5WkeP"
      }
    },
    {
      "cell_type": "markdown",
      "source": [
        "Problema 1 - Horários das rondas\n"
      ],
      "metadata": {
        "id": "lU60dG1OWmBM"
      }
    },
    {
      "cell_type": "code",
      "metadata": {
        "colab": {
          "base_uri": "https://localhost:8080/"
        },
        "id": "013a6c89",
        "outputId": "35a7eaaa-8760-4ad7-b2d4-fdc959fe0c52"
      },
      "source": [
        "%%writefile main.c\n",
        "#include <stdio.h>\n",
        "\n",
        "// Definição da função para escrever o horário\n",
        "// Ela recebe a hora, o minuto e o formato (0 para 24h, 1 para 12h).\n",
        "void escreverHorario(int hora, int minuto, int formato) {\n",
        "    // 1. Tratamento dos Minutos\n",
        "    // Se os minutos >= 60, o excedente deve ser adicionado às horas.\n",
        "    hora += minuto / 60;\n",
        "    minuto %= 60; // Pega o resto da divisão para obter os minutos finais.\n",
        "\n",
        "    // 2. Tratamento das Horas\n",
        "    // Se as horas >= 24, o excedente significa que passou de um dia para o outro.\n",
        "    // Ex: 25 horas = 1 hora (25 % 24 = 1).\n",
        "    hora %= 24;\n",
        "\n",
        "    // 3. Impressão no Formato 24h\n",
        "    if (formato == 0) {\n",
        "        // Usa \"%02d\" para garantir que horas e minutos tenham sempre dois dígitos (ex: 09:07)\n",
        "        printf(\"%02d:%02d\\n\", hora, minuto);\n",
        "    }\n",
        "    // 4. Impressão no Formato 12h\n",
        "    else {\n",
        "        int hora_12h = hora % 12;\n",
        "        char *am_pm; // Ponteiro de char para a string \"AM\" ou \"PM\"\n",
        "\n",
        "        // Caso especial: 00:xx (meia-noite) é 12 AM.\n",
        "        if (hora == 0) {\n",
        "            hora_12h = 12;\n",
        "            am_pm = \"AM\";\n",
        "        }\n",
        "        // 12:xx (meio-dia) é 12 PM.\n",
        "        else if (hora == 12) {\n",
        "            am_pm = \"PM\";\n",
        "        }\n",
        "        // Horários antes das 12h são AM.\n",
        "        else if (hora < 12) {\n",
        "            am_pm = \"AM\";\n",
        "        }\n",
        "        // Horários a partir das 12h são PM.\n",
        "        else {\n",
        "            am_pm = \"PM\";\n",
        "        }\n",
        "\n",
        "        printf(\"%02d:%02d %s\\n\", hora_12h, minuto, am_pm);\n",
        "    }\n",
        "}\n",
        "\n",
        "int main() {\n",
        "    int hora_inicio, minuto_inicio, formato_saida;\n",
        "\n",
        "    // Acréscimos de tempo para as rondas: 1h, 2h10m, 4h40m, 12h5m\n",
        "    // Representamos em minutos totais para simplificar o cálculo.\n",
        "    int acrescimos_minutos[] = {\n",
        "        1 * 60,         // 1h\n",
        "        (2 * 60) + 10,  // 2h10m\n",
        "        (4 * 60) + 40,  // 4h40m\n",
        "        (12 * 60) + 5   // 12h5m\n",
        "    };\n",
        "    int num_rondas = 4;\n",
        "\n",
        "    // Leitura dos dados iniciais\n",
        "    printf(\"Digite hora, minuto da primeira ronda e formato (0 ou 1): \");\n",
        "    scanf(\"%d %d %d\", &hora_inicio, &minuto_inicio, &formato_saida);\n",
        "\n",
        "    // Converte o horário inicial para minutos totais para facilitar o cálculo.\n",
        "    int minutos_totais_inicio = (hora_inicio * 60) + minuto_inicio;\n",
        "\n",
        "    // A primeira ronda é sempre o horário inicial.\n",
        "    escreverHorario(hora_inicio, minuto_inicio, formato_saida);\n",
        "\n",
        "    // Calcula e imprime os horários das rondas seguintes.\n",
        "    for (int i = 0; i < num_rondas; i++) {\n",
        "        int novo_minuto_total = minutos_totais_inicio + acrescimos_minutos[i];\n",
        "\n",
        "        // Converte os novos minutos totais de volta para horas e minutos.\n",
        "        int nova_hora = novo_minuto_total / 60;\n",
        "        int novo_minuto = novo_minuto_total % 60;\n",
        "\n",
        "        // Chama a função para processar e imprimir o horário.\n",
        "        escreverHorario(nova_hora, novo_minuto, formato_saida);\n",
        "    }\n",
        "\n",
        "    return 0;\n",
        "}"
      ],
      "execution_count": 7,
      "outputs": [
        {
          "output_type": "stream",
          "name": "stdout",
          "text": [
            "Writing main.c\n"
          ]
        }
      ]
    },
    {
      "cell_type": "code",
      "metadata": {
        "colab": {
          "base_uri": "https://localhost:8080/"
        },
        "id": "84d5b1fc",
        "outputId": "8500da1e-144b-45ae-df7b-214ed3380d78"
      },
      "source": [
        "%%shell\n",
        "gcc /content/main.c -o /content/main\n",
        "/content/main"
      ],
      "execution_count": 8,
      "outputs": [
        {
          "output_type": "stream",
          "name": "stdout",
          "text": [
            "Digite hora, minuto da primeira ronda e formato (0 ou 1): 1011\n",
            "11\n",
            "10\n",
            "03:11 AM\n",
            "04:11 AM\n",
            "05:21 AM\n",
            "07:51 AM\n",
            "03:16 PM\n"
          ]
        },
        {
          "output_type": "execute_result",
          "data": {
            "text/plain": []
          },
          "metadata": {},
          "execution_count": 8
        }
      ]
    },
    {
      "cell_type": "markdown",
      "source": [
        "Problema 2 - Primos triplos\n"
      ],
      "metadata": {
        "id": "eVYIN-B6Xp0f"
      }
    },
    {
      "cell_type": "code",
      "metadata": {
        "colab": {
          "base_uri": "https://localhost:8080/"
        },
        "id": "9236e514",
        "outputId": "e6ae6783-4740-453e-830e-292260e692db"
      },
      "source": [
        "%%writefile prime_triplets.c\n",
        "#include <stdio.h>\n",
        "#include <stdbool.h>\n",
        "#include <math.h>\n",
        "\n",
        "// Função para verificar se um número é primo.\n",
        "// Retorna 'true' se for primo e 'false' caso contrário.\n",
        "bool ehPrimo(int num) {\n",
        "    // 0 e 1 não são primos.\n",
        "    if (num <= 1) {\n",
        "        return false;\n",
        "    }\n",
        "    // Otimização: Apenas precisa verificar divisores até a raiz quadrada do número.\n",
        "    for (int i = 2; i * i <= num; i++) {\n",
        "        if (num % i == 0) {\n",
        "            return false; // É divisível, logo não é primo.\n",
        "        }\n",
        "    }\n",
        "    return true; // Passou por todas as verificações, logo é primo.\n",
        "}\n",
        "\n",
        "int main() {\n",
        "    int limite = 50000; // Limite máximo para a busca.\n",
        "\n",
        "    printf(\"Trios de primos na forma (x, x+2, x+6) ate %d:\\n\", limite);\n",
        "\n",
        "    // O laço testa o primeiro número 'x' de cada trio.\n",
        "    for (int x = 1; x <= limite - 6; x++) {\n",
        "        int y = x + 2; // Segundo número do trio\n",
        "        int z = x + 6; // Terceiro número do trio\n",
        "\n",
        "        // Usa a função 'ehPrimo' para verificar os três números\n",
        "        if (ehPrimo(x)) {\n",
        "            if (ehPrimo(y)) {\n",
        "                if (ehPrimo(z)) {\n",
        "                    // Se todos os três são primos, imprime o trio no formato desejado.\n",
        "                    printf(\"(%d, %d, %d)\\n\", x, y, z);\n",
        "                }\n",
        "            }\n",
        "        }\n",
        "    }\n",
        "\n",
        "    return 0;\n",
        "}"
      ],
      "execution_count": 2,
      "outputs": [
        {
          "output_type": "stream",
          "name": "stdout",
          "text": [
            "Writing prime_triplets.c\n"
          ]
        }
      ]
    },
    {
      "cell_type": "code",
      "metadata": {
        "colab": {
          "base_uri": "https://localhost:8080/"
        },
        "id": "3c9951f5",
        "outputId": "6bfdd90d-e2d1-406c-b6b8-a69f0230126b"
      },
      "source": [
        "%%shell\n",
        "gcc /content/prime_triplets.c -o /content/prime_triplets -lm\n",
        "/content/prime_triplets"
      ],
      "execution_count": 3,
      "outputs": [
        {
          "output_type": "stream",
          "name": "stdout",
          "text": [
            "Trios de primos na forma (x, x+2, x+6) ate 50000:\n",
            "(5, 7, 11)\n",
            "(11, 13, 17)\n",
            "(17, 19, 23)\n",
            "(41, 43, 47)\n",
            "(101, 103, 107)\n",
            "(107, 109, 113)\n",
            "(191, 193, 197)\n",
            "(227, 229, 233)\n",
            "(311, 313, 317)\n",
            "(347, 349, 353)\n",
            "(461, 463, 467)\n",
            "(641, 643, 647)\n",
            "(821, 823, 827)\n",
            "(857, 859, 863)\n",
            "(881, 883, 887)\n",
            "(1091, 1093, 1097)\n",
            "(1277, 1279, 1283)\n",
            "(1301, 1303, 1307)\n",
            "(1427, 1429, 1433)\n",
            "(1481, 1483, 1487)\n",
            "(1487, 1489, 1493)\n",
            "(1607, 1609, 1613)\n",
            "(1871, 1873, 1877)\n",
            "(1997, 1999, 2003)\n",
            "(2081, 2083, 2087)\n",
            "(2237, 2239, 2243)\n",
            "(2267, 2269, 2273)\n",
            "(2657, 2659, 2663)\n",
            "(2687, 2689, 2693)\n",
            "(3251, 3253, 3257)\n",
            "(3461, 3463, 3467)\n",
            "(3527, 3529, 3533)\n",
            "(3671, 3673, 3677)\n",
            "(3917, 3919, 3923)\n",
            "(4001, 4003, 4007)\n",
            "(4127, 4129, 4133)\n",
            "(4517, 4519, 4523)\n",
            "(4637, 4639, 4643)\n",
            "(4787, 4789, 4793)\n",
            "(4931, 4933, 4937)\n",
            "(4967, 4969, 4973)\n",
            "(5231, 5233, 5237)\n",
            "(5477, 5479, 5483)\n",
            "(5501, 5503, 5507)\n",
            "(5651, 5653, 5657)\n",
            "(6197, 6199, 6203)\n",
            "(6827, 6829, 6833)\n",
            "(7877, 7879, 7883)\n",
            "(8087, 8089, 8093)\n",
            "(8231, 8233, 8237)\n",
            "(8291, 8293, 8297)\n",
            "(8537, 8539, 8543)\n",
            "(8861, 8863, 8867)\n",
            "(9431, 9433, 9437)\n",
            "(9461, 9463, 9467)\n",
            "(10331, 10333, 10337)\n",
            "(10427, 10429, 10433)\n",
            "(10457, 10459, 10463)\n",
            "(11171, 11173, 11177)\n",
            "(11777, 11779, 11783)\n",
            "(12107, 12109, 12113)\n",
            "(12917, 12919, 12923)\n",
            "(13001, 13003, 13007)\n",
            "(13691, 13693, 13697)\n",
            "(13757, 13759, 13763)\n",
            "(13877, 13879, 13883)\n",
            "(13901, 13903, 13907)\n",
            "(14081, 14083, 14087)\n",
            "(14321, 14323, 14327)\n",
            "(14627, 14629, 14633)\n",
            "(15641, 15643, 15647)\n",
            "(15731, 15733, 15737)\n",
            "(16061, 16063, 16067)\n",
            "(16067, 16069, 16073)\n",
            "(16187, 16189, 16193)\n",
            "(17027, 17029, 17033)\n",
            "(17387, 17389, 17393)\n",
            "(18041, 18043, 18047)\n",
            "(18251, 18253, 18257)\n",
            "(18911, 18913, 18917)\n",
            "(19421, 19423, 19427)\n",
            "(19427, 19429, 19433)\n",
            "(19991, 19993, 19997)\n",
            "(20477, 20479, 20483)\n",
            "(20747, 20749, 20753)\n",
            "(20897, 20899, 20903)\n",
            "(21011, 21013, 21017)\n",
            "(21017, 21019, 21023)\n",
            "(21317, 21319, 21323)\n",
            "(21377, 21379, 21383)\n",
            "(21557, 21559, 21563)\n",
            "(21611, 21613, 21617)\n",
            "(22271, 22273, 22277)\n",
            "(22277, 22279, 22283)\n",
            "(22637, 22639, 22643)\n",
            "(23057, 23059, 23063)\n",
            "(23291, 23293, 23297)\n",
            "(23561, 23563, 23567)\n",
            "(23627, 23629, 23633)\n",
            "(23741, 23743, 23747)\n",
            "(24107, 24109, 24113)\n",
            "(24917, 24919, 24923)\n",
            "(25031, 25033, 25037)\n",
            "(25301, 25303, 25307)\n",
            "(25577, 25579, 25583)\n",
            "(25997, 25999, 26003)\n",
            "(26261, 26263, 26267)\n",
            "(26681, 26683, 26687)\n",
            "(26711, 26713, 26717)\n",
            "(27737, 27739, 27743)\n",
            "(27941, 27943, 27947)\n",
            "(28277, 28279, 28283)\n",
            "(29021, 29023, 29027)\n",
            "(29567, 29569, 29573)\n",
            "(30491, 30493, 30497)\n",
            "(31247, 31249, 31253)\n",
            "(31391, 31393, 31397)\n",
            "(31511, 31513, 31517)\n",
            "(31541, 31543, 31547)\n",
            "(31721, 31723, 31727)\n",
            "(32057, 32059, 32063)\n",
            "(32297, 32299, 32303)\n",
            "(32321, 32323, 32327)\n",
            "(32531, 32533, 32537)\n",
            "(33347, 33349, 33353)\n",
            "(33617, 33619, 33623)\n",
            "(33767, 33769, 33773)\n",
            "(34211, 34213, 34217)\n",
            "(34757, 34759, 34763)\n",
            "(34841, 34843, 34847)\n",
            "(35531, 35533, 35537)\n",
            "(35591, 35593, 35597)\n",
            "(36011, 36013, 36017)\n",
            "(36467, 36469, 36473)\n",
            "(37307, 37309, 37313)\n",
            "(37991, 37993, 37997)\n",
            "(38327, 38329, 38333)\n",
            "(38447, 38449, 38453)\n",
            "(39041, 39043, 39047)\n",
            "(39227, 39229, 39233)\n",
            "(40427, 40429, 40433)\n",
            "(40847, 40849, 40853)\n",
            "(41177, 41179, 41183)\n",
            "(42017, 42019, 42023)\n",
            "(42221, 42223, 42227)\n",
            "(42461, 42463, 42467)\n",
            "(43397, 43399, 43403)\n",
            "(43607, 43609, 43613)\n",
            "(43781, 43783, 43787)\n",
            "(43787, 43789, 43793)\n",
            "(44201, 44203, 44207)\n",
            "(44267, 44269, 44273)\n",
            "(44531, 44533, 44537)\n",
            "(44771, 44773, 44777)\n",
            "(45821, 45823, 45827)\n",
            "(46181, 46183, 46187)\n",
            "(47711, 47713, 47717)\n",
            "(48407, 48409, 48413)\n",
            "(49031, 49033, 49037)\n",
            "(49937, 49939, 49943)\n"
          ]
        },
        {
          "output_type": "execute_result",
          "data": {
            "text/plain": []
          },
          "metadata": {},
          "execution_count": 3
        }
      ]
    }
  ]
}