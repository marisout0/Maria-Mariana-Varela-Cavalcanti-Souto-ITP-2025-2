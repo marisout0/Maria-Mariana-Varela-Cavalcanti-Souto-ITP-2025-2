{
  "nbformat": 4,
  "nbformat_minor": 0,
  "metadata": {
    "colab": {
      "provenance": [],
      "authorship_tag": "ABX9TyNibJ1uxwrpxqrjP8qotKnA",
      "include_colab_link": true
    },
    "kernelspec": {
      "name": "python3",
      "display_name": "Python 3"
    },
    "language_info": {
      "name": "python"
    }
  },
  "cells": [
    {
      "cell_type": "markdown",
      "metadata": {
        "id": "view-in-github",
        "colab_type": "text"
      },
      "source": [
        "<a href=\"https://colab.research.google.com/github/marisout0/Maria-Mariana-Varela-Cavalcanti-Souto-ITP-2025-2/blob/main/Lista1_ITP_semana_4_C.ipynb\" target=\"_parent\"><img src=\"https://colab.research.google.com/assets/colab-badge.svg\" alt=\"Open In Colab\"/></a>"
      ]
    },
    {
      "cell_type": "markdown",
      "source": [
        "Baixando Compilador em C"
      ],
      "metadata": {
        "id": "mhgWMZizpDql"
      }
    },
    {
      "cell_type": "code",
      "metadata": {
        "colab": {
          "base_uri": "https://localhost:8080/"
        },
        "id": "8a3fdf88",
        "outputId": "b10ff76f-03f5-45b1-98ed-f6d302167e92"
      },
      "source": [
        "!apt update\n",
        "!apt install build-essential"
      ],
      "execution_count": null,
      "outputs": [
        {
          "output_type": "stream",
          "name": "stdout",
          "text": [
            "Get:1 https://developer.download.nvidia.com/compute/cuda/repos/ubuntu2204/x86_64  InRelease [1,581 B]\n",
            "Get:2 https://cli.github.com/packages stable InRelease [3,917 B]\n",
            "Get:3 https://cloud.r-project.org/bin/linux/ubuntu jammy-cran40/ InRelease [3,632 B]\n",
            "Get:4 http://security.ubuntu.com/ubuntu jammy-security InRelease [129 kB]\n",
            "Hit:5 http://archive.ubuntu.com/ubuntu jammy InRelease\n",
            "Get:6 https://r2u.stat.illinois.edu/ubuntu jammy InRelease [6,555 B]\n",
            "Get:7 http://archive.ubuntu.com/ubuntu jammy-updates InRelease [128 kB]\n",
            "Get:8 https://developer.download.nvidia.com/compute/cuda/repos/ubuntu2204/x86_64  Packages [2,006 kB]\n",
            "Get:9 http://archive.ubuntu.com/ubuntu jammy-backports InRelease [127 kB]\n",
            "Hit:10 https://ppa.launchpadcontent.net/deadsnakes/ppa/ubuntu jammy InRelease\n",
            "Hit:11 https://ppa.launchpadcontent.net/graphics-drivers/ppa/ubuntu jammy InRelease\n",
            "Hit:12 https://ppa.launchpadcontent.net/ubuntugis/ppa/ubuntu jammy InRelease\n",
            "Get:13 https://cli.github.com/packages stable/main amd64 Packages [346 B]\n",
            "Get:14 https://r2u.stat.illinois.edu/ubuntu jammy/main amd64 Packages [2,795 kB]\n",
            "Get:15 https://r2u.stat.illinois.edu/ubuntu jammy/main all Packages [9,266 kB]\n",
            "Get:16 http://security.ubuntu.com/ubuntu jammy-security/main amd64 Packages [3,310 kB]\n",
            "Get:17 http://security.ubuntu.com/ubuntu jammy-security/universe amd64 Packages [1,273 kB]\n",
            "Get:18 http://archive.ubuntu.com/ubuntu jammy-updates/multiverse amd64 Packages [88.8 kB]\n",
            "Get:19 http://archive.ubuntu.com/ubuntu jammy-updates/universe amd64 Packages [1,581 kB]\n",
            "Get:20 http://archive.ubuntu.com/ubuntu jammy-updates/restricted amd64 Packages [5,627 kB]\n",
            "Get:21 http://archive.ubuntu.com/ubuntu jammy-updates/main amd64 Packages [3,623 kB]\n",
            "Fetched 30.0 MB in 6s (5,152 kB/s)\n",
            "Reading package lists... Done\n",
            "Building dependency tree... Done\n",
            "Reading state information... Done\n",
            "45 packages can be upgraded. Run 'apt list --upgradable' to see them.\n",
            "\u001b[1;33mW: \u001b[0mSkipping acquire of configured file 'main/source/Sources' as repository 'https://r2u.stat.illinois.edu/ubuntu jammy InRelease' does not seem to provide it (sources.list entry misspelt?)\u001b[0m\n",
            "Reading package lists... Done\n",
            "Building dependency tree... Done\n",
            "Reading state information... Done\n",
            "build-essential is already the newest version (12.9ubuntu3).\n",
            "0 upgraded, 0 newly installed, 0 to remove and 45 not upgraded.\n"
          ]
        }
      ]
    },
    {
      "cell_type": "markdown",
      "source": [
        "Exercício 1 -  quantas vezes uma folha precisa ser dobrada para caber em um bolso"
      ],
      "metadata": {
        "id": "KZNCMwnF6KgF"
      }
    },
    {
      "cell_type": "code",
      "metadata": {
        "colab": {
          "base_uri": "https://localhost:8080/"
        },
        "id": "27e86592",
        "outputId": "646cbd63-4883-4d78-c9f0-512d11f34d84"
      },
      "source": [
        "%%writefile fold_paper.c\n",
        "#include <stdio.h>\n",
        "\n",
        "int main() {\n",
        "    float comprimento_folha, largura_folha, comprimento_bolso;\n",
        "    int numero_dobras = 0;\n",
        "\n",
        "    printf(\"Digite o comprimento da folha: \");\n",
        "    scanf(\"%f\", &comprimento_folha);\n",
        "\n",
        "    printf(\"Digite a largura da folha: \");\n",
        "    scanf(\"%f\", &largura_folha);\n",
        "\n",
        "    printf(\"Digite o comprimento do bolso: \");\n",
        "    scanf(\"%f\", &comprimento_bolso);\n",
        "\n",
        "    // O loop continua enquanto nenhum dos lados da folha couber no bolso.\n",
        "    while (comprimento_folha > comprimento_bolso && largura_folha > comprimento_bolso) {\n",
        "        // Verifica qual é o maior lado para dobrar.\n",
        "        if (comprimento_folha > largura_folha) {\n",
        "            comprimento_folha /= 2.0;\n",
        "        } else {\n",
        "            largura_folha /= 2.0;\n",
        "        }\n",
        "        // Incrementa o contador de dobras.\n",
        "        numero_dobras++;\n",
        "    }\n",
        "\n",
        "    printf(\"Numero de dobras necessarias: %d\\n\", numero_dobras);\n",
        "\n",
        "    return 0;\n",
        "}"
      ],
      "execution_count": 1,
      "outputs": [
        {
          "output_type": "stream",
          "name": "stdout",
          "text": [
            "Writing fold_paper.c\n"
          ]
        }
      ]
    },
    {
      "cell_type": "code",
      "metadata": {
        "colab": {
          "base_uri": "https://localhost:8080/"
        },
        "id": "687989cd",
        "outputId": "1bb6e056-bba7-4716-e0eb-254e7687b4a6"
      },
      "source": [
        "%%shell\n",
        "gcc fold_paper.c -o fold_paper\n",
        "./fold_paper"
      ],
      "execution_count": 4,
      "outputs": [
        {
          "output_type": "stream",
          "name": "stdout",
          "text": [
            "Digite o comprimento da folha: 12\n",
            "Digite a largura da folha: 2\n",
            "Digite o comprimento do bolso: 1\n",
            "Numero de dobras necessarias: 4\n"
          ]
        },
        {
          "output_type": "execute_result",
          "data": {
            "text/plain": []
          },
          "metadata": {},
          "execution_count": 4
        }
      ]
    },
    {
      "cell_type": "markdown",
      "source": [
        "Exercício 2 - Homem aranha"
      ],
      "metadata": {
        "id": "A1ynb8OB-1jU"
      }
    },
    {
      "cell_type": "code",
      "source": [
        "%%writefile spider_man_exercise3.c\n",
        "#include <stdio.h>\n",
        "#include <math.h> // Necessária para as funções de raiz quadrada (sqrt) e potência (pow)\n",
        "\n",
        "int main() {\n",
        "    // Declaração de variáveis\n",
        "    float homemAranhaX, homemAranhaY;\n",
        "    float comprimentoTeia;\n",
        "    int n;\n",
        "    int consegueChegar = 1; // Flag: 1 para Sim (verdadeiro), 0 para Não (falso)\n",
        "\n",
        "    // 1. Leitura dos dados iniciais\n",
        "    // Coordenada inicial do homem aranha (x, y)\n",
        "    printf(\"Digite a coordenada inicial do Homem Aranha (x y): \");\n",
        "    scanf(\"%f %f\", &homemAranhaX, &homemAranhaY);\n",
        "\n",
        "    // Comprimento máximo da teia\n",
        "    printf(\"Digite o comprimento maximo da teia: \");\n",
        "    scanf(\"%f\", &comprimentoTeia);\n",
        "\n",
        "    // Quantidade de alvos\n",
        "    printf(\"Digite a quantidade de alvos: \");\n",
        "    scanf(\"%d\", &n);\n",
        "\n",
        "    // 2. Loop para processar cada alvo\n",
        "    for (int i = 0; i < n; i++) {\n",
        "        float alvoX, alvoY;\n",
        "\n",
        "        // Leitura da coordenada do alvo atual\n",
        "        printf(\"Digite a coordenada do alvo %d (x y): \", i + 1);\n",
        "        scanf(\"%f %f\", &alvoX, &alvoY);\n",
        "\n",
        "        // Se já sabemos que ele não consegue, podemos pular os cálculos,\n",
        "        // mas precisamos ler os inputs restantes para não corromper o buffer de entrada.\n",
        "        // No entanto, a forma mais limpa é usar um 'break' e parar tudo.\n",
        "\n",
        "        // Calcula a distância euclidiana do Homem-Aranha até o alvo\n",
        "        float distancia = sqrt(pow(alvoX - homemAranhaX, 2) + pow(alvoY - homemAranhaY, 2));\n",
        "\n",
        "        // 3. Verifica se a teia alcança o alvo\n",
        "        if (distancia > comprimentoTeia) {\n",
        "            consegueChegar = 0; // Marca como falha\n",
        "            break; // Interrompe o loop, pois não é necessário verificar os próximos alvos\n",
        "        } else {\n",
        "            // Se alcançou, calcula a nova posição do Homem-Aranha\n",
        "            float proximoX = (2 * alvoX) - homemAranhaX;\n",
        "            float proximoY = alvoY; // Atualizado com base na fórmula fornecida (2ax - x, y)\n",
        "\n",
        "            // Atualiza a posição atual para ser usada no próximo loop\n",
        "            homemAranhaX = proximoX;\n",
        "            homemAranhaY = proximoY;\n",
        "        }\n",
        "    }\n",
        "\n",
        "    // 4. Imprime o resultado final\n",
        "    if (consegueChegar == 1) {\n",
        "        printf(\"S\\n\");\n",
        "    } else {\n",
        "        printf(\"N\\n\");\n",
        "    }\n",
        "\n",
        "    return 0;\n",
        "}"
      ],
      "metadata": {
        "colab": {
          "base_uri": "https://localhost:8080/"
        },
        "id": "A_KzOE0LMy0E",
        "outputId": "4efbeeba-6736-4020-9d79-235fc27c0ba5"
      },
      "execution_count": 23,
      "outputs": [
        {
          "output_type": "stream",
          "name": "stdout",
          "text": [
            "Overwriting spider_man_exercise3.c\n"
          ]
        }
      ]
    },
    {
      "cell_type": "code",
      "metadata": {
        "colab": {
          "base_uri": "https://localhost:8080/"
        },
        "id": "d52c686c",
        "outputId": "10d51a82-c69e-4a14-ef88-eef9bb69c88b"
      },
      "source": [
        "%%shell\n",
        "gcc spider_man_exercise3.c -o spider_man_exercise3 -lm\n",
        "./spider_man_exercise3"
      ],
      "execution_count": 20,
      "outputs": [
        {
          "output_type": "stream",
          "name": "stdout",
          "text": [
            "Digite a coordenada inicial do Homem Aranha (x y): 8 2\n",
            "Digite o comprimento maximo da teia: 4\n",
            "Digite a quantidade de alvos: 12\n",
            "Digite a coordenada do alvo 1 (x y): 1 4\n",
            "N\n"
          ]
        },
        {
          "output_type": "execute_result",
          "data": {
            "text/plain": []
          },
          "metadata": {},
          "execution_count": 20
        }
      ]
    },
    {
      "cell_type": "markdown",
      "source": [
        "Exercício 3 - números colegas"
      ],
      "metadata": {
        "id": "XVEpbvPhAGy6"
      }
    },
    {
      "cell_type": "code",
      "metadata": {
        "colab": {
          "base_uri": "https://localhost:8080/"
        },
        "id": "5845f718",
        "outputId": "88ebe57b-bd14-4b5e-d927-0bc455958036"
      },
      "source": [
        "%%writefile colleague_numbers.c\n",
        "#include <stdio.h>\n",
        "#include <stdlib.h> // Para a função abs()\n",
        "\n",
        "// Função para calcular a soma dos divisores próprios de um número\n",
        "int soma_divisores_proprios(int num) {\n",
        "    int soma = 1; // 1 é sempre um divisor próprio\n",
        "    // Loop otimizado: verifica divisores até a raiz quadrada do número.\n",
        "    for (int i = 2; i * i <= num; i++) {\n",
        "        if (num % i == 0) {\n",
        "            soma += i;\n",
        "            // Se i * i não for igual a num, então num/i também é um divisor próprio e diferente de i.\n",
        "            if (i * i != num) {\n",
        "                soma += num / i;\n",
        "            }\n",
        "        }\n",
        "    }\n",
        "    return soma;\n",
        "}\n",
        "\n",
        "int main() {\n",
        "    int a, b;\n",
        "    int soma_div_a, soma_div_b;\n",
        "\n",
        "    printf(\"Digite o primeiro numero inteiro (A): \");\n",
        "    scanf(\"%d\", &a);\n",
        "\n",
        "    printf(\"Digite o segundo numero inteiro (B): \");\n",
        "    scanf(\"%d\", &b);\n",
        "\n",
        "    // Calcula a soma dos divisores próprios de A e B.\n",
        "    soma_div_a = soma_divisores_proprios(a);\n",
        "    soma_div_b = soma_divisores_proprios(b);\n",
        "\n",
        "    // Verifica se os números são colegas.\n",
        "    // A condição é que a diferença absoluta entre a soma dos divisores de um e o outro número seja <= 2.\n",
        "    if (abs(soma_div_a - b) <= 2 && abs(soma_div_b - a) <= 2) {\n",
        "        printf(\"S\\n\");\n",
        "    } else {\n",
        "        printf(\"N\\n\");\n",
        "    }\n",
        "\n",
        "    return 0;\n",
        "}"
      ],
      "execution_count": 24,
      "outputs": [
        {
          "output_type": "stream",
          "name": "stdout",
          "text": [
            "Overwriting colleague_numbers.c\n"
          ]
        }
      ]
    },
    {
      "cell_type": "code",
      "metadata": {
        "colab": {
          "base_uri": "https://localhost:8080/"
        },
        "id": "dc168e81",
        "outputId": "3f6d60f0-e94c-4f45-bf3e-1313c485ac3c"
      },
      "source": [
        "%%shell\n",
        "gcc colleague_numbers.c -o colleague_numbers\n",
        "./colleague_numbers"
      ],
      "execution_count": 6,
      "outputs": [
        {
          "output_type": "stream",
          "name": "stdout",
          "text": [
            "Digite o primeiro numero inteiro (A): 70\n",
            "Digite o segundo numero inteiro (B): 12\n",
            "N\n"
          ]
        },
        {
          "output_type": "execute_result",
          "data": {
            "text/plain": []
          },
          "metadata": {},
          "execution_count": 6
        }
      ]
    },
    {
      "cell_type": "markdown",
      "source": [
        "Exercício 4 - jogo de dardos\n",
        "\n"
      ],
      "metadata": {
        "id": "mY6JX3qiP3EL"
      }
    },
    {
      "cell_type": "code",
      "metadata": {
        "colab": {
          "base_uri": "https://localhost:8080/"
        },
        "id": "1354258b",
        "outputId": "9653e57d-43fd-431a-905e-c394ae72c168"
      },
      "source": [
        "%%writefile darts_game.c\n",
        "#include <stdio.h>\n",
        "#include <math.h>\n",
        "\n",
        "int main() {\n",
        "    int n, i;\n",
        "    float x, y, distancia;\n",
        "    int score = 0;\n",
        "\n",
        "    // Leitura do número de arremessos\n",
        "    printf(\"Digite o numero de arremessos: \");\n",
        "    scanf(\"%d\", &n);\n",
        "\n",
        "    // Loop para processar cada arremesso\n",
        "    for (i = 0; i < n; i++) {\n",
        "        // Leitura das coordenadas do arremesso\n",
        "        printf(\"Digite as coordenadas do arremesso %d (x y): \", i + 1);\n",
        "        scanf(\"%f %f\", &x, &y);\n",
        "\n",
        "        // Calcula a distância do centro (0,0)\n",
        "        distancia = sqrt(x*x + y*y);\n",
        "\n",
        "        // Determina a pontuação com base na distância\n",
        "        if (distancia <= 1.0) {\n",
        "            score += 10;\n",
        "        } else if (distancia <= 5.0) {\n",
        "            score += 5;\n",
        "        } else if (distancia <= 10.0) {\n",
        "            score += 1;\n",
        "        }\n",
        "    }\n",
        "\n",
        "    // Imprime a pontuação total\n",
        "    printf(\"Pontuacao total: %d\\n\", score);\n",
        "\n",
        "    return 0;\n",
        "}"
      ],
      "execution_count": 25,
      "outputs": [
        {
          "output_type": "stream",
          "name": "stdout",
          "text": [
            "Overwriting darts_game.c\n"
          ]
        }
      ]
    },
    {
      "cell_type": "code",
      "metadata": {
        "colab": {
          "base_uri": "https://localhost:8080/"
        },
        "id": "f51177e7",
        "outputId": "649d2c04-db75-45af-d8f1-43f6f580b6da"
      },
      "source": [
        "%%shell\n",
        "gcc darts_game.c -o darts_game -lm\n",
        "./darts_game"
      ],
      "execution_count": 22,
      "outputs": [
        {
          "output_type": "stream",
          "name": "stdout",
          "text": [
            "Digite o numero de arremessos: 6\n",
            "Digite as coordenadas do arremesso 1 (x y): 3 4\n",
            "Digite as coordenadas do arremesso 2 (x y): 3 6\n",
            "Digite as coordenadas do arremesso 3 (x y): 1 8\n",
            "Digite as coordenadas do arremesso 4 (x y): 9 5\n",
            "Digite as coordenadas do arremesso 5 (x y): 3 4\n",
            "Digite as coordenadas do arremesso 6 (x y): 1 2\n",
            "Pontuacao total: 17\n"
          ]
        },
        {
          "output_type": "execute_result",
          "data": {
            "text/plain": []
          },
          "metadata": {},
          "execution_count": 22
        }
      ]
    }
  ]
}