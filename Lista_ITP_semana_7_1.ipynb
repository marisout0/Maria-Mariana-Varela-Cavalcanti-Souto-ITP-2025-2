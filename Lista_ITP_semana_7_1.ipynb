{
  "nbformat": 4,
  "nbformat_minor": 0,
  "metadata": {
    "colab": {
      "provenance": [],
      "authorship_tag": "ABX9TyMpsDSm9ijP8/JN/iFsMgS1",
      "include_colab_link": true
    },
    "kernelspec": {
      "name": "python3",
      "display_name": "Python 3"
    },
    "language_info": {
      "name": "python"
    }
  },
  "cells": [
    {
      "cell_type": "markdown",
      "metadata": {
        "id": "view-in-github",
        "colab_type": "text"
      },
      "source": [
        "<a href=\"https://colab.research.google.com/github/marisout0/Maria-Mariana-Varela-Cavalcanti-Souto-ITP-2025-2/blob/main/Lista_ITP_semana_7_1.ipynb\" target=\"_parent\"><img src=\"https://colab.research.google.com/assets/colab-badge.svg\" alt=\"Open In Colab\"/></a>"
      ]
    },
    {
      "cell_type": "code",
      "metadata": {
        "colab": {
          "base_uri": "https://localhost:8080/"
        },
        "id": "a4954cba",
        "outputId": "3ccc1802-badc-4996-fdd2-4d9a4ada3388"
      },
      "source": [
        "!gcc --version"
      ],
      "execution_count": null,
      "outputs": [
        {
          "output_type": "stream",
          "name": "stdout",
          "text": [
            "gcc (Ubuntu 11.4.0-1ubuntu1~22.04.2) 11.4.0\n",
            "Copyright (C) 2021 Free Software Foundation, Inc.\n",
            "This is free software; see the source for copying conditions.  There is NO\n",
            "warranty; not even for MERCHANTABILITY or FITNESS FOR A PARTICULAR PURPOSE.\n",
            "\n"
          ]
        }
      ]
    },
    {
      "cell_type": "code",
      "source": [
        "%%writefile minefield.c\n",
        "\n",
        "#include <stdio.h>\n",
        "#include <string.h> // Para usar a função strlen()\n",
        "\n",
        "int main() {\n",
        "    // A palavra tem no máximo 20 caracteres\n",
        "    // +1 para o caractere nulo '\\0'\n",
        "    char campo[21];\n",
        "    int indice;\n",
        "    int bombas_adjacentes = 0;\n",
        "\n",
        "    // Leitura da palavra (sem espaços) e do índice\n",
        "    // Usamos scanf %s para ler a string\n",
        "    scanf(\"%s\", campo);\n",
        "    scanf(\"%d\", &indice);\n",
        "\n",
        "    // 1. Verifica se o índice escolhido é uma bomba\n",
        "    if (campo[indice] == 'x') {\n",
        "        printf(\"bum!\\n\");\n",
        "    } else {\n",
        "        // 2. Conta bombas adjacentes se não for \"bum!\"\n",
        "        int len = strlen(campo); // Pega o tamanho da string\n",
        "\n",
        "        // Verifica a esquerda (índice - 1)\n",
        "        // Garante que não estamos na borda esquerda (indice > 0)\n",
        "        if (indice > 0 && campo[indice - 1] == 'x') {\n",
        "            bombas_adjacentes++;\n",
        "        }\n",
        "\n",
        "        // Verifica a direita (índice + 1)\n",
        "        // Garante que não estamos na borda direita (indice < len - 1)\n",
        "        if (indice < len - 1 && campo[indice + 1] == 'x') {\n",
        "            bombas_adjacentes++;\n",
        "        }\n",
        "\n",
        "        // Escreve o número de bombas adjacentes\n",
        "        printf(\"%d\\n\", bombas_adjacentes);\n",
        "    }\n",
        "\n",
        "    return 0;\n",
        "}"
      ],
      "metadata": {
        "colab": {
          "base_uri": "https://localhost:8080/"
        },
        "id": "kwg2fegzfjCF",
        "outputId": "4e19312f-cc97-484b-d859-052a490bd18d"
      },
      "execution_count": null,
      "outputs": [
        {
          "output_type": "stream",
          "name": "stdout",
          "text": [
            "Overwriting minefield.c\n"
          ]
        }
      ]
    },
    {
      "cell_type": "code",
      "metadata": {
        "colab": {
          "base_uri": "https://localhost:8080/"
        },
        "id": "895a14fd",
        "outputId": "4580191d-6070-48ac-9497-a0a36c35a2f7"
      },
      "source": [
        "!./campo_minado"
      ],
      "execution_count": null,
      "outputs": [
        {
          "output_type": "stream",
          "name": "stdout",
          "text": [
            "xx\n",
            "x.\n",
            "bum!\n"
          ]
        }
      ]
    }
  ]
}